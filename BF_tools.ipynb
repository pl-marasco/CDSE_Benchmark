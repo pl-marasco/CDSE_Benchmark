{
 "cells": [
  {
   "cell_type": "code",
   "outputs": [],
   "source": [
    "import geopandas as gpd\n",
    "import pandas as pd\n",
    "import random\n",
    "from shapely.geometry import Point, Polygon"
   ],
   "metadata": {
    "collapsed": false,
    "ExecuteTime": {
     "end_time": "2024-02-14T12:20:10.243416600Z",
     "start_time": "2024-02-14T12:20:09.188235100Z"
    }
   },
   "id": "cdd788b484f0dbf7",
   "execution_count": 8
  },
  {
   "cell_type": "code",
   "outputs": [],
   "source": [
    "def generate_random_points(num_points, lat_range, lon_range):\n",
    "    \"\"\"Generate a GeoDataFrame of random (latitude, longitude) points.\"\"\"\n",
    "    random.seed(1492)\n",
    "    latitudes = [random.uniform(*lat_range) for _ in range(num_points)]\n",
    "    longitudes = [random.uniform(*lon_range) for _ in range(num_points)]\n",
    "    points = [Point(lon, lat) for lat, lon in zip(latitudes, longitudes)]\n",
    "    return gpd.GeoDataFrame(geometry=points)\n"
   ],
   "metadata": {
    "collapsed": false,
    "ExecuteTime": {
     "end_time": "2024-02-14T12:55:18.317208100Z",
     "start_time": "2024-02-14T12:55:18.302191600Z"
    }
   },
   "id": "e7d362956aa7a61a",
   "execution_count": 25
  },
  {
   "cell_type": "code",
   "outputs": [],
   "source": [
    "def read_kml_to_gdf(kml_file_path):\n",
    "    \"\"\"Convert KML file to GeoDataFrame.\"\"\"\n",
    "    # Note: GeoPandas might not directly read KML files depending on the environment setup.\n",
    "    # An alternative is to convert the KML to GeoJSON or another supported format first.\n",
    "    # This example assumes a direct read for simplicity.\n",
    "    gpd.io.file.fiona.drvsupport.supported_drivers['KML'] = 'rw'\n",
    "    return gpd.read_file(kml_file_path, driver='KML')\n"
   ],
   "metadata": {
    "collapsed": false,
    "ExecuteTime": {
     "end_time": "2024-02-14T12:21:48.817787900Z",
     "start_time": "2024-02-14T12:21:48.805280500Z"
    }
   },
   "id": "56880107a27f5dd5",
   "execution_count": 14
  },
  {
   "cell_type": "code",
   "outputs": [],
   "source": [
    "def find_polygons_containing_points(polygons_gdf, points_gdf):\n",
    "    \"\"\"Filter polygons that contain any of the points.\"\"\"\n",
    "    selected_polygons = gpd.GeoDataFrame()\n",
    "    for point in points_gdf.geometry:\n",
    "        contains = polygons_gdf.contains(point)\n",
    "        selected_polygons = pd.concat([selected_polygons, polygons_gdf[contains]])\n",
    "    return selected_polygons.drop_duplicates()\n"
   ],
   "metadata": {
    "collapsed": false,
    "ExecuteTime": {
     "end_time": "2024-02-14T12:25:29.481505700Z",
     "start_time": "2024-02-14T12:25:29.468501Z"
    }
   },
   "id": "d79b64ef08184583",
   "execution_count": 21
  },
  {
   "cell_type": "code",
   "outputs": [],
   "source": [
    "# Example usage\n",
    "num_points = 30\n",
    "lat_range = (-90, 90)  # Example latitude range\n",
    "lon_range = (-180, 180)  # Example longitude range\n",
    "\n",
    "# Generate random points\n",
    "random_points_gdf = generate_random_points(num_points, lat_range, lon_range)"
   ],
   "metadata": {
    "collapsed": false,
    "ExecuteTime": {
     "end_time": "2024-02-14T12:55:36.978358100Z",
     "start_time": "2024-02-14T12:55:36.965358Z"
    }
   },
   "id": "5e4d091be15fa7c0",
   "execution_count": 28
  },
  {
   "cell_type": "code",
   "outputs": [],
   "source": [
    "# Read KML file to GeoDataFrame\n",
    "kml_file_path = 'data/S2A_OPER_GIP_TILPAR_MPC__20151209T095117_V20150622T000000_21000101T000000_B00.kml'\n",
    "polygons_gdf = read_kml_to_gdf(kml_file_path)"
   ],
   "metadata": {
    "collapsed": false,
    "ExecuteTime": {
     "end_time": "2024-02-14T12:22:29.957750200Z",
     "start_time": "2024-02-14T12:22:21.164154900Z"
    }
   },
   "id": "5026c21b9dd6fdbc",
   "execution_count": 16
  },
  {
   "cell_type": "code",
   "outputs": [],
   "source": [
    "# Find polygons containing any of the random points\n",
    "selected_polygons = find_polygons_containing_points(polygons_gdf, random_points_gdf)"
   ],
   "metadata": {
    "collapsed": false,
    "ExecuteTime": {
     "end_time": "2024-02-14T12:25:32.667613300Z",
     "start_time": "2024-02-14T12:25:32.602663800Z"
    }
   },
   "id": "d60a4c819683102a",
   "execution_count": 22
  },
  {
   "cell_type": "code",
   "outputs": [
    {
     "data": {
      "text/plain": "23632    25UFQ\n21930    24EXU\n26045    28MCD\n47643    51KUT\n47644    51KUU\n8514     09UXS\n8515     09UXT\n21006    23FNB\n23753    26CNR\n24680    27CVL\n49187    52WDS\n53920    57WWR\n48550    52JEP\n28565    31FEA\n41405    44RLU\n36018    39CWK\n36955    40CDQ\n16197    18CWV\n17124    19CDQ\n18151    20EPV\n19066    21EUQ\n49477    53JLG\n49485    53JMG\n15375    17GML\n42948    46KGA\n42956    46KGV\n22859    25EEK\n22860    25EEL\n22868    25EFK\n22869    25EFL\n23789    26ELQ\n23790    26ELR\n11142    12QXH\n32712    35NMC\n28758    31KCU\n3330     04LFM\n36991    40DEN\n18031    19WFP\n4515     05QNB\n26411    28TEL\n44472    47WNT\nName: Name, dtype: object"
     },
     "execution_count": 24,
     "metadata": {},
     "output_type": "execute_result"
    }
   ],
   "source": [
    "selected_polygons['Name']"
   ],
   "metadata": {
    "collapsed": false,
    "ExecuteTime": {
     "end_time": "2024-02-14T12:26:24.992159100Z",
     "start_time": "2024-02-14T12:26:24.974257500Z"
    }
   },
   "id": "95a597056ebf0aca",
   "execution_count": 24
  },
  {
   "cell_type": "code",
   "outputs": [
    {
     "ename": "ValueError",
     "evalue": "Assigning CRS to a GeoDataFrame without a geometry column is not supported. Supply geometry using the 'geometry=' keyword argument, or by providing a DataFrame with column name 'geometry'",
     "output_type": "error",
     "traceback": [
      "\u001B[1;31m---------------------------------------------------------------------------\u001B[0m",
      "\u001B[1;31mValueError\u001B[0m                                Traceback (most recent call last)",
      "Cell \u001B[1;32mIn[15], line 14\u001B[0m\n\u001B[0;32m     11\u001B[0m polygons_gdf \u001B[38;5;241m=\u001B[39m read_kml_to_gdf(kml_file_path)\n\u001B[0;32m     13\u001B[0m \u001B[38;5;66;03m# Find polygons containing any of the random points\u001B[39;00m\n\u001B[1;32m---> 14\u001B[0m selected_polygons \u001B[38;5;241m=\u001B[39m \u001B[43mfind_polygons_containing_points\u001B[49m\u001B[43m(\u001B[49m\u001B[43mpolygons_gdf\u001B[49m\u001B[43m,\u001B[49m\u001B[43m \u001B[49m\u001B[43mrandom_points_gdf\u001B[49m\u001B[43m)\u001B[49m\n\u001B[0;32m     16\u001B[0m \u001B[38;5;66;03m# Print or process selected polygons\u001B[39;00m\n\u001B[0;32m     17\u001B[0m \u001B[38;5;28mprint\u001B[39m(\u001B[38;5;124mf\u001B[39m\u001B[38;5;124m\"\u001B[39m\u001B[38;5;124mFound \u001B[39m\u001B[38;5;132;01m{\u001B[39;00m\u001B[38;5;28mlen\u001B[39m(selected_polygons)\u001B[38;5;132;01m}\u001B[39;00m\u001B[38;5;124m polygons containing the random points.\u001B[39m\u001B[38;5;124m\"\u001B[39m)\n",
      "Cell \u001B[1;32mIn[11], line 3\u001B[0m, in \u001B[0;36mfind_polygons_containing_points\u001B[1;34m(polygons_gdf, points_gdf)\u001B[0m\n\u001B[0;32m      1\u001B[0m \u001B[38;5;28;01mdef\u001B[39;00m \u001B[38;5;21mfind_polygons_containing_points\u001B[39m(polygons_gdf, points_gdf):\n\u001B[0;32m      2\u001B[0m \u001B[38;5;250m    \u001B[39m\u001B[38;5;124;03m\"\"\"Filter polygons that contain any of the points.\"\"\"\u001B[39;00m\n\u001B[1;32m----> 3\u001B[0m     selected_polygons \u001B[38;5;241m=\u001B[39m \u001B[43mgpd\u001B[49m\u001B[38;5;241;43m.\u001B[39;49m\u001B[43mGeoDataFrame\u001B[49m\u001B[43m(\u001B[49m\u001B[43mcrs\u001B[49m\u001B[38;5;241;43m=\u001B[39;49m\u001B[43mpolygons_gdf\u001B[49m\u001B[38;5;241;43m.\u001B[39;49m\u001B[43mcrs\u001B[49m\u001B[43m)\u001B[49m\n\u001B[0;32m      4\u001B[0m     \u001B[38;5;28;01mfor\u001B[39;00m point \u001B[38;5;129;01min\u001B[39;00m points_gdf\u001B[38;5;241m.\u001B[39mgeometry:\n\u001B[0;32m      5\u001B[0m         contains \u001B[38;5;241m=\u001B[39m polygons_gdf\u001B[38;5;241m.\u001B[39mcontains(point)\n",
      "File \u001B[1;32m~\\miniconda3\\envs\\treundici\\Lib\\site-packages\\geopandas\\geodataframe.py:195\u001B[0m, in \u001B[0;36mGeoDataFrame.__init__\u001B[1;34m(self, data, geometry, crs, *args, **kwargs)\u001B[0m\n\u001B[0;32m    192\u001B[0m     \u001B[38;5;28mself\u001B[39m\u001B[38;5;241m.\u001B[39mset_geometry(geometry, inplace\u001B[38;5;241m=\u001B[39m\u001B[38;5;28;01mTrue\u001B[39;00m, crs\u001B[38;5;241m=\u001B[39mcrs)\n\u001B[0;32m    194\u001B[0m \u001B[38;5;28;01mif\u001B[39;00m geometry \u001B[38;5;129;01mis\u001B[39;00m \u001B[38;5;28;01mNone\u001B[39;00m \u001B[38;5;129;01mand\u001B[39;00m crs:\n\u001B[1;32m--> 195\u001B[0m     \u001B[38;5;28;01mraise\u001B[39;00m \u001B[38;5;167;01mValueError\u001B[39;00m(\n\u001B[0;32m    196\u001B[0m         \u001B[38;5;124m\"\u001B[39m\u001B[38;5;124mAssigning CRS to a GeoDataFrame without a geometry column is not \u001B[39m\u001B[38;5;124m\"\u001B[39m\n\u001B[0;32m    197\u001B[0m         \u001B[38;5;124m\"\u001B[39m\u001B[38;5;124msupported. Supply geometry using the \u001B[39m\u001B[38;5;124m'\u001B[39m\u001B[38;5;124mgeometry=\u001B[39m\u001B[38;5;124m'\u001B[39m\u001B[38;5;124m keyword argument, \u001B[39m\u001B[38;5;124m\"\u001B[39m\n\u001B[0;32m    198\u001B[0m         \u001B[38;5;124m\"\u001B[39m\u001B[38;5;124mor by providing a DataFrame with column name \u001B[39m\u001B[38;5;124m'\u001B[39m\u001B[38;5;124mgeometry\u001B[39m\u001B[38;5;124m'\u001B[39m\u001B[38;5;124m\"\u001B[39m,\n\u001B[0;32m    199\u001B[0m     )\n",
      "\u001B[1;31mValueError\u001B[0m: Assigning CRS to a GeoDataFrame without a geometry column is not supported. Supply geometry using the 'geometry=' keyword argument, or by providing a DataFrame with column name 'geometry'"
     ]
    }
   ],
   "source": [
    "\n",
    "# Print or process selected polygons\n",
    "print(f\"Found {len(selected_polygons)} polygons containing the random points.\")\n"
   ],
   "metadata": {
    "collapsed": false,
    "ExecuteTime": {
     "end_time": "2024-02-14T12:22:01.048084800Z",
     "start_time": "2024-02-14T12:21:52.130374900Z"
    }
   },
   "id": "a533784fac1fa4b6",
   "execution_count": 15
  },
  {
   "cell_type": "code",
   "outputs": [],
   "source": [],
   "metadata": {
    "collapsed": false
   },
   "id": "72f50b8f022ba95b"
  }
 ],
 "metadata": {
  "kernelspec": {
   "display_name": "Python 3",
   "language": "python",
   "name": "python3"
  },
  "language_info": {
   "codemirror_mode": {
    "name": "ipython",
    "version": 2
   },
   "file_extension": ".py",
   "mimetype": "text/x-python",
   "name": "python",
   "nbconvert_exporter": "python",
   "pygments_lexer": "ipython2",
   "version": "2.7.6"
  }
 },
 "nbformat": 4,
 "nbformat_minor": 5
}
