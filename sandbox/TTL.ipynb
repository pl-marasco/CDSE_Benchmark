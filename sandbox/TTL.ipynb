{
 "cells": [
  {
   "cell_type": "code",
   "id": "initial_id",
   "metadata": {
    "collapsed": true,
    "ExecuteTime": {
     "end_time": "2024-04-19T09:19:05.535673Z",
     "start_time": "2024-04-19T09:19:01.513969Z"
    }
   },
   "source": [
    "import subprocess\n",
    "import re\n",
    "p = subprocess.Popen([\"ping\", \"-v\", \"-c 5\", \"{}\"], stdout=subprocess.PIPE)\n",
    "res=p.communicate()[0]\n",
    "if p.returncode > 0:\n",
    "    print('server error')\n",
    "else:\n",
    "    pattern = re.compile('ttl=\\d*')\n",
    "    print(int(pattern.search(str(res)).group().split('=')[1]))"
   ],
   "outputs": [
    {
     "name": "stderr",
     "output_type": "stream",
     "text": [
      "ping: sock4.fd: 3 (socktype: SOCK_DGRAM), sock6.fd: 4 (socktype: SOCK_DGRAM), hints.ai_family: AF_UNSPEC\n",
      "\n"
     ]
    },
    {
     "name": "stdout",
     "output_type": "stream",
     "text": [
      "117\n"
     ]
    }
   ],
   "execution_count": 17
  },
  {
   "metadata": {
    "ExecuteTime": {
     "end_time": "2024-04-19T13:23:15.803385Z",
     "start_time": "2024-04-19T13:23:15.801245Z"
    }
   },
   "cell_type": "code",
   "source": "print(res)",
   "id": "d9391405eea59139",
   "outputs": [
    {
     "name": "stdout",
     "output_type": "stream",
     "text": [
      "b\"ai->ai_family: AF_INET, ai->ai_canonname: 'www.google.com'\\nPING www.google.com (142.250.180.164) 56(84) bytes of data.\\n64 bytes from mil04s44-in-f4.1e100.net (142.250.180.164): icmp_seq=1 ttl=117 time=2.92 ms\\n64 bytes from mil04s44-in-f4.1e100.net (142.250.180.164): icmp_seq=2 ttl=117 time=2.74 ms\\n64 bytes from mil04s44-in-f4.1e100.net (142.250.180.164): icmp_seq=3 ttl=117 time=3.20 ms\\n64 bytes from mil04s44-in-f4.1e100.net (142.250.180.164): icmp_seq=4 ttl=117 time=3.42 ms\\n64 bytes from mil04s44-in-f4.1e100.net (142.250.180.164): icmp_seq=5 ttl=117 time=3.18 ms\\n\\n--- www.google.com ping statistics ---\\n5 packets transmitted, 5 received, 0% packet loss, time 4006ms\\nrtt min/avg/max/mdev = 2.744/3.091/3.423/0.236 ms\\n\"\n"
     ]
    }
   ],
   "execution_count": 18
  },
  {
   "metadata": {},
   "cell_type": "code",
   "outputs": [],
   "execution_count": null,
   "source": "",
   "id": "3715554c97423874"
  }
 ],
 "metadata": {
  "kernelspec": {
   "display_name": "Python 3",
   "language": "python",
   "name": "python3"
  },
  "language_info": {
   "codemirror_mode": {
    "name": "ipython",
    "version": 2
   },
   "file_extension": ".py",
   "mimetype": "text/x-python",
   "name": "python",
   "nbconvert_exporter": "python",
   "pygments_lexer": "ipython2",
   "version": "2.7.6"
  }
 },
 "nbformat": 4,
 "nbformat_minor": 5
}
