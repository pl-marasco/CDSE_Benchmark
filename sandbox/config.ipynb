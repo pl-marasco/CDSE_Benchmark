{
 "cells": [
  {
   "cell_type": "code",
   "id": "initial_id",
   "metadata": {
    "collapsed": true,
    "ExecuteTime": {
     "end_time": "2024-04-15T10:21:01.362692Z",
     "start_time": "2024-04-15T10:21:01.359171Z"
    }
   },
   "source": "import json",
   "outputs": [],
   "execution_count": 1
  },
  {
   "metadata": {
    "ExecuteTime": {
     "end_time": "2024-04-15T10:24:43.447768Z",
     "start_time": "2024-04-15T10:24:43.444974Z"
    }
   },
   "cell_type": "code",
   "source": [
    "with open('/home/pier/PycharmProjects/CDSE_Benchmark/settings.json') as f:\n",
    "    data = json.load(f)"
   ],
   "id": "7cb8a2807cf0a77e",
   "outputs": [],
   "execution_count": 5
  },
  {
   "metadata": {
    "ExecuteTime": {
     "end_time": "2024-04-15T10:24:43.909637Z",
     "start_time": "2024-04-15T10:24:43.906189Z"
    }
   },
   "cell_type": "code",
   "source": "data",
   "id": "d2bee65b86ea1495",
   "outputs": [
    {
     "data": {
      "text/plain": [
       "{'collection': {'collection_name': 'Enter Collection Name Here',\n",
       "  'product_type': 'Enter Product Type Here'},\n",
       " 'run_parameters': {'repeat_n': '10', 'number_n': '3', 'dd_number': '1'}}"
      ]
     },
     "execution_count": 6,
     "metadata": {},
     "output_type": "execute_result"
    }
   ],
   "execution_count": 6
  },
  {
   "metadata": {
    "ExecuteTime": {
     "end_time": "2024-04-15T10:25:21.742124Z",
     "start_time": "2024-04-15T10:25:21.739451Z"
    }
   },
   "cell_type": "code",
   "source": "data['collection']['collection_name']",
   "id": "e6602d7237da9757",
   "outputs": [
    {
     "data": {
      "text/plain": [
       "'Enter Collection Name Here'"
      ]
     },
     "execution_count": 8,
     "metadata": {},
     "output_type": "execute_result"
    }
   ],
   "execution_count": 8
  },
  {
   "metadata": {
    "ExecuteTime": {
     "end_time": "2024-04-15T10:28:38.919490Z",
     "start_time": "2024-04-15T10:28:38.916652Z"
    }
   },
   "cell_type": "code",
   "source": "data.get('collection').get('collection_name')\n",
   "id": "b98ef7ecc51a5f5d",
   "outputs": [
    {
     "data": {
      "text/plain": [
       "'Enter Collection Name Here'"
      ]
     },
     "execution_count": 9,
     "metadata": {},
     "output_type": "execute_result"
    }
   ],
   "execution_count": 9
  },
  {
   "metadata": {
    "ExecuteTime": {
     "end_time": "2024-04-22T15:19:44.039811Z",
     "start_time": "2024-04-22T15:19:44.036172Z"
    }
   },
   "cell_type": "code",
   "source": "",
   "id": "d9683c0bb09356fb",
   "outputs": [],
   "execution_count": 1
  },
  {
   "metadata": {
    "ExecuteTime": {
     "end_time": "2024-04-22T15:20:27.470647Z",
     "start_time": "2024-04-22T15:20:27.467944Z"
    }
   },
   "cell_type": "code",
   "source": "",
   "id": "5289f05e531adae4",
   "outputs": [
    {
     "data": {
      "text/plain": [
       "'20240422_1720'"
      ]
     },
     "execution_count": 5,
     "metadata": {},
     "output_type": "execute_result"
    }
   ],
   "execution_count": 5
  },
  {
   "metadata": {
    "ExecuteTime": {
     "end_time": "2024-04-23T12:49:10.496881Z",
     "start_time": "2024-04-23T12:49:10.493326Z"
    }
   },
   "cell_type": "code",
   "source": [
    "test = None\n",
    "tes2 = None"
   ],
   "id": "e75530489cbd533a",
   "outputs": [],
   "execution_count": 1
  },
  {
   "metadata": {
    "ExecuteTime": {
     "end_time": "2024-04-23T12:50:37.739330Z",
     "start_time": "2024-04-23T12:50:37.736879Z"
    }
   },
   "cell_type": "code",
   "source": [
    "if test is not None and tes2 is not None:\n",
    "    print('True')\n",
    "else:\n",
    "    print('False')"
   ],
   "id": "654b529e251410b0",
   "outputs": [
    {
     "name": "stdout",
     "output_type": "stream",
     "text": [
      "False\n"
     ]
    }
   ],
   "execution_count": 3
  },
  {
   "metadata": {},
   "cell_type": "code",
   "outputs": [],
   "execution_count": null,
   "source": "",
   "id": "cbfb67629d94ca10"
  }
 ],
 "metadata": {
  "kernelspec": {
   "display_name": "Python 3",
   "language": "python",
   "name": "python3"
  },
  "language_info": {
   "codemirror_mode": {
    "name": "ipython",
    "version": 2
   },
   "file_extension": ".py",
   "mimetype": "text/x-python",
   "name": "python",
   "nbconvert_exporter": "python",
   "pygments_lexer": "ipython2",
   "version": "2.7.6"
  }
 },
 "nbformat": 4,
 "nbformat_minor": 5
}
