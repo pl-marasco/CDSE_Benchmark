{
 "cells": [
  {
   "cell_type": "markdown",
   "source": [
    "# Sentinel 2 resources on AWS"
   ],
   "metadata": {
    "collapsed": false
   },
   "id": "7401cb1de1d4238a"
  },
  {
   "cell_type": "markdown",
   "source": [
    "- Sentinel 2 resources on AWS: [Sentinel-2 - Registry of Open Data on AWS](https://registry.opendata.aws/sentinel-2/)\n",
    "- Data managed by Sinergy on AWS: [S2 on AWS from Sinergy](https://registry.opendata.aws/?search=managedBy:sinergise)"
   ],
   "metadata": {
    "collapsed": false
   },
   "id": "f63a1bb4e4b283b"
  },
  {
   "cell_type": "markdown",
   "source": [
    "Question: get access to the latest MSI product available for the UTM zone 32TPP from AWS\n",
    "Procedure description:\n",
    "\n",
    "- get latest MSI product available for the UTM zone 32TPP from AWS\n",
    "- test access to the data and speed of access on the local machine"
   ],
   "metadata": {
    "collapsed": false
   },
   "id": "bcf2923d2446dcb8"
  },
  {
   "cell_type": "markdown",
   "source": [
    "Source of data: \n",
    "```\n",
    "Description\n",
    "    Level 2A scenes and metadata, in Requester Pays S3 bucket\n",
    "Resource type\n",
    "    S3 Bucket Requester Pays\n",
    "Amazon Resource Name (ARN)\n",
    "    arn:aws:s3:::sentinel-s2-l2a\n",
    "AWS Region\n",
    "    eu-central-1\n",
    "AWS CLI Access\n",
    "   aws s3 ls --request-payer requester s3://sentinel-s2-l2a/\n",
    "```"
   ],
   "metadata": {
    "collapsed": false
   },
   "id": "5a06f40aeac7ff3d"
  },
  {
   "cell_type": "code",
   "outputs": [
    {
     "name": "stdout",
     "output_type": "stream",
     "text": [
      "                           PRE qi/\n",
      "2024-02-10 04:56:56    8700476 metadata.xml\n"
     ]
    }
   ],
   "source": [],
   "metadata": {
    "collapsed": false,
    "ExecuteTime": {
     "end_time": "2024-02-12T13:53:41.770407400Z",
     "start_time": "2024-02-12T13:53:40.992993Z"
    }
   },
   "id": "cec8cdd487519ac9",
   "execution_count": 58
  },
  {
   "cell_type": "code",
   "outputs": [
    {
     "name": "stderr",
     "output_type": "stream",
     "text": [
      "fatal error: An error occurred (400) when calling the HeadObject operation: Bad Request\n"
     ]
    }
   ],
   "source": [
    "import numpy as np\n",
    "#get the latest MSI product available for the UTM zone 32TPP from AWS\n",
    "!aws s3 cp --request-payer requester s3://sentinel-s2-l2a/tiles/32/T/PP/2024/2/10/0/R20m/B07.jp2 ./data"
   ],
   "metadata": {
    "collapsed": false,
    "ExecuteTime": {
     "end_time": "2024-02-12T16:29:00.731895500Z",
     "start_time": "2024-02-12T16:28:58.808261500Z"
    }
   },
   "id": "108b20ed13171c31",
   "execution_count": 60
  },
  {
   "cell_type": "code",
   "outputs": [
    {
     "name": "stderr",
     "output_type": "stream",
     "text": [
      "'s3fs' is not recognized as an internal or external command,\n",
      "operable program or batch file.\n"
     ]
    }
   ],
   "source": [
    "#mount the bucket (linux)\n",
    "!s3fs sentinel-s2-l2a ~/s2aws -o url=https://s3-eu-central-1.amazonaws.com -o endpoint=eu-central-1 -o sigv4 -o requester_pays -o dbglevel=info -f -o curldbg"
   ],
   "metadata": {
    "collapsed": false,
    "ExecuteTime": {
     "end_time": "2024-02-13T10:41:10.601089700Z",
     "start_time": "2024-02-13T10:41:10.574745700Z"
    }
   },
   "id": "3e673ac6cd49df22",
   "execution_count": 1
  },
  {
   "cell_type": "code",
   "outputs": [],
   "source": [
    "#mount the bucket (linux no debug)\n",
    "!s3fs sentinel-s2-l2a ~/s2aws -o url=https://s3-eu-central-1.amazonaws.com -o endpoint=eu-central-1 -o sigv4 -o requester_pays"
   ],
   "metadata": {
    "collapsed": false
   },
   "id": "f04bff1858ce7ba3"
  },
  {
   "cell_type": "code",
   "outputs": [],
   "source": [
    "from osgeo import gdal\n",
    "import timeit"
   ],
   "metadata": {
    "collapsed": false,
    "ExecuteTime": {
     "end_time": "2024-02-14T09:48:33.847417996Z",
     "start_time": "2024-02-14T09:48:33.844594555Z"
    }
   },
   "id": "6b3adeb1ad1ef459",
   "execution_count": 1
  },
  {
   "cell_type": "code",
   "outputs": [
    {
     "name": "stdout",
     "output_type": "stream",
     "text": [
      "1.74 s ± 129 ms per loop (mean ± std. dev. of 30 runs, 1 loop each)\n"
     ]
    }
   ],
   "source": [
    "%%timeit -r 30 -n 1\n",
    "gdal.Info('/home/pier/AWS/tiles/32/T/PP/2024/2/10/0/R20m/B07.jp2')"
   ],
   "metadata": {
    "collapsed": false,
    "ExecuteTime": {
     "end_time": "2024-02-14T10:43:38.324268988Z",
     "start_time": "2024-02-14T10:42:46.091886106Z"
    }
   },
   "id": "23753b50700b6ce1",
   "execution_count": 28
  },
  {
   "cell_type": "code",
   "outputs": [
    {
     "name": "stdout",
     "output_type": "stream",
     "text": [
      "1.54 s ± 67.1 ms per loop (mean ± std. dev. of 30 runs, 1 loop each)\n"
     ]
    }
   ],
   "source": [
    "%%timeit -r 30 -n 1\n",
    "gdal.Info('/home/pier/AWS/tiles/38/Q/KG/2024/2/14/0/R20m/B07.jp2')"
   ],
   "metadata": {
    "collapsed": false,
    "ExecuteTime": {
     "end_time": "2024-02-14T10:44:24.634145899Z",
     "start_time": "2024-02-14T10:43:38.324199510Z"
    }
   },
   "id": "5f49381ba4986850",
   "execution_count": 29
  },
  {
   "cell_type": "code",
   "outputs": [
    {
     "name": "stdout",
     "output_type": "stream",
     "text": [
      "16.7 s ± 1.84 s per loop (mean ± std. dev. of 5 runs, 1 loop each)\n"
     ]
    }
   ],
   "source": [
    "%%timeit -r 5 -n 1\n",
    "gdal.Info('/home/pier/CDSE/Sentinel-2/MSI/L2A/2024/02/10/S2A_MSIL2A_20240210T102151_N0510_R065_T32TPP_20240210T143650.SAFE/GRANULE/L2A_T32TPP_A045107_20240210T102529/IMG_DATA/R20m/T32TPP_20240210T102151_B07_20m.jp2')"
   ],
   "metadata": {
    "collapsed": false,
    "ExecuteTime": {
     "end_time": "2024-02-14T10:29:18.294130497Z",
     "start_time": "2024-02-14T10:27:54.655608185Z"
    }
   },
   "id": "7bf8d1273f1fe72c",
   "execution_count": 24
  },
  {
   "cell_type": "code",
   "outputs": [
    {
     "name": "stdout",
     "output_type": "stream",
     "text": [
      "1.76 s ± 92.4 ms per loop (mean ± std. dev. of 5 runs, 1 loop each)\n"
     ]
    }
   ],
   "source": [],
   "metadata": {
    "collapsed": false,
    "ExecuteTime": {
     "end_time": "2024-02-14T10:15:51.010798841Z",
     "start_time": "2024-02-14T10:15:42.185041333Z"
    }
   },
   "id": "8529123f567cf61f",
   "execution_count": 18
  },
  {
   "cell_type": "code",
   "outputs": [],
   "source": [
    "import timeit\n",
    "import numpy as np"
   ],
   "metadata": {
    "collapsed": false,
    "ExecuteTime": {
     "end_time": "2024-02-14T15:55:46.390515441Z",
     "start_time": "2024-02-14T15:55:46.346042555Z"
    }
   },
   "id": "a47e88813e9ab62b",
   "execution_count": 1
  },
  {
   "cell_type": "code",
   "outputs": [
    {
     "name": "stderr",
     "output_type": "stream",
     "text": [
      "/home/pier/miniconda3/envs/treundici_dev/lib/python3.11/site-packages/osgeo/gdal.py:312: FutureWarning: Neither gdal.UseExceptions() nor gdal.DontUseExceptions() has been explicitly called. In GDAL 4.0, exceptions will be enabled by default.\n",
      "  warnings.warn(\n"
     ]
    },
    {
     "ename": "KeyboardInterrupt",
     "evalue": "",
     "output_type": "error",
     "traceback": [
      "\u001B[0;31m---------------------------------------------------------------------------\u001B[0m",
      "\u001B[0;31mKeyboardInterrupt\u001B[0m                         Traceback (most recent call last)",
      "Cell \u001B[0;32mIn[2], line 1\u001B[0m\n\u001B[0;32m----> 1\u001B[0m timing \u001B[38;5;241m=\u001B[39m \u001B[43mtimeit\u001B[49m\u001B[38;5;241;43m.\u001B[39;49m\u001B[43mrepeat\u001B[49m\u001B[43m(\u001B[49m\u001B[38;5;124;43m'\u001B[39;49m\u001B[38;5;124;43mgdal.Info(\u001B[39;49m\u001B[38;5;124;43m\"\u001B[39;49m\u001B[38;5;124;43m/home/pier/AWS/tiles/32/T/PP/2024/2/10/0/R20m/B07.jp2\u001B[39;49m\u001B[38;5;124;43m\"\u001B[39;49m\u001B[38;5;124;43m)\u001B[39;49m\u001B[38;5;124;43m'\u001B[39;49m\u001B[43m,\u001B[49m\u001B[43m \u001B[49m\u001B[43msetup\u001B[49m\u001B[38;5;241;43m=\u001B[39;49m\u001B[38;5;124;43m'\u001B[39;49m\u001B[38;5;124;43mfrom osgeo import gdal\u001B[39;49m\u001B[38;5;124;43m'\u001B[39;49m\u001B[43m,\u001B[49m\u001B[43m \u001B[49m\u001B[43mrepeat\u001B[49m\u001B[38;5;241;43m=\u001B[39;49m\u001B[38;5;241;43m30\u001B[39;49m\u001B[43m,\u001B[49m\u001B[43m \u001B[49m\u001B[43mnumber\u001B[49m\u001B[38;5;241;43m=\u001B[39;49m\u001B[38;5;241;43m1\u001B[39;49m\u001B[43m)\u001B[49m\n",
      "File \u001B[0;32m~/miniconda3/envs/treundici_dev/lib/python3.11/timeit.py:243\u001B[0m, in \u001B[0;36mrepeat\u001B[0;34m(stmt, setup, timer, repeat, number, globals)\u001B[0m\n\u001B[1;32m    240\u001B[0m \u001B[38;5;28;01mdef\u001B[39;00m \u001B[38;5;21mrepeat\u001B[39m(stmt\u001B[38;5;241m=\u001B[39m\u001B[38;5;124m\"\u001B[39m\u001B[38;5;124mpass\u001B[39m\u001B[38;5;124m\"\u001B[39m, setup\u001B[38;5;241m=\u001B[39m\u001B[38;5;124m\"\u001B[39m\u001B[38;5;124mpass\u001B[39m\u001B[38;5;124m\"\u001B[39m, timer\u001B[38;5;241m=\u001B[39mdefault_timer,\n\u001B[1;32m    241\u001B[0m            repeat\u001B[38;5;241m=\u001B[39mdefault_repeat, number\u001B[38;5;241m=\u001B[39mdefault_number, \u001B[38;5;28mglobals\u001B[39m\u001B[38;5;241m=\u001B[39m\u001B[38;5;28;01mNone\u001B[39;00m):\n\u001B[1;32m    242\u001B[0m \u001B[38;5;250m    \u001B[39m\u001B[38;5;124;03m\"\"\"Convenience function to create Timer object and call repeat method.\"\"\"\u001B[39;00m\n\u001B[0;32m--> 243\u001B[0m     \u001B[38;5;28;01mreturn\u001B[39;00m \u001B[43mTimer\u001B[49m\u001B[43m(\u001B[49m\u001B[43mstmt\u001B[49m\u001B[43m,\u001B[49m\u001B[43m \u001B[49m\u001B[43msetup\u001B[49m\u001B[43m,\u001B[49m\u001B[43m \u001B[49m\u001B[43mtimer\u001B[49m\u001B[43m,\u001B[49m\u001B[43m \u001B[49m\u001B[38;5;28;43mglobals\u001B[39;49m\u001B[43m)\u001B[49m\u001B[38;5;241;43m.\u001B[39;49m\u001B[43mrepeat\u001B[49m\u001B[43m(\u001B[49m\u001B[43mrepeat\u001B[49m\u001B[43m,\u001B[49m\u001B[43m \u001B[49m\u001B[43mnumber\u001B[49m\u001B[43m)\u001B[49m\n",
      "File \u001B[0;32m~/miniconda3/envs/treundici_dev/lib/python3.11/timeit.py:208\u001B[0m, in \u001B[0;36mTimer.repeat\u001B[0;34m(self, repeat, number)\u001B[0m\n\u001B[1;32m    206\u001B[0m r \u001B[38;5;241m=\u001B[39m []\n\u001B[1;32m    207\u001B[0m \u001B[38;5;28;01mfor\u001B[39;00m i \u001B[38;5;129;01min\u001B[39;00m \u001B[38;5;28mrange\u001B[39m(repeat):\n\u001B[0;32m--> 208\u001B[0m     t \u001B[38;5;241m=\u001B[39m \u001B[38;5;28;43mself\u001B[39;49m\u001B[38;5;241;43m.\u001B[39;49m\u001B[43mtimeit\u001B[49m\u001B[43m(\u001B[49m\u001B[43mnumber\u001B[49m\u001B[43m)\u001B[49m\n\u001B[1;32m    209\u001B[0m     r\u001B[38;5;241m.\u001B[39mappend(t)\n\u001B[1;32m    210\u001B[0m \u001B[38;5;28;01mreturn\u001B[39;00m r\n",
      "File \u001B[0;32m~/miniconda3/envs/treundici_dev/lib/python3.11/timeit.py:180\u001B[0m, in \u001B[0;36mTimer.timeit\u001B[0;34m(self, number)\u001B[0m\n\u001B[1;32m    178\u001B[0m gc\u001B[38;5;241m.\u001B[39mdisable()\n\u001B[1;32m    179\u001B[0m \u001B[38;5;28;01mtry\u001B[39;00m:\n\u001B[0;32m--> 180\u001B[0m     timing \u001B[38;5;241m=\u001B[39m \u001B[38;5;28;43mself\u001B[39;49m\u001B[38;5;241;43m.\u001B[39;49m\u001B[43minner\u001B[49m\u001B[43m(\u001B[49m\u001B[43mit\u001B[49m\u001B[43m,\u001B[49m\u001B[43m \u001B[49m\u001B[38;5;28;43mself\u001B[39;49m\u001B[38;5;241;43m.\u001B[39;49m\u001B[43mtimer\u001B[49m\u001B[43m)\u001B[49m\n\u001B[1;32m    181\u001B[0m \u001B[38;5;28;01mfinally\u001B[39;00m:\n\u001B[1;32m    182\u001B[0m     \u001B[38;5;28;01mif\u001B[39;00m gcold:\n",
      "File \u001B[0;32m<timeit-src>:6\u001B[0m, in \u001B[0;36minner\u001B[0;34m(_it, _timer)\u001B[0m\n",
      "File \u001B[0;32m~/miniconda3/envs/treundici_dev/lib/python3.11/site-packages/osgeo/gdal.py:403\u001B[0m, in \u001B[0;36mInfo\u001B[0;34m(ds, **kwargs)\u001B[0m\n\u001B[1;32m    400\u001B[0m \u001B[38;5;28;01mimport\u001B[39;00m \u001B[38;5;21;01mos\u001B[39;00m\n\u001B[1;32m    402\u001B[0m \u001B[38;5;28;01mif\u001B[39;00m \u001B[38;5;28misinstance\u001B[39m(ds, (\u001B[38;5;28mstr\u001B[39m, os\u001B[38;5;241m.\u001B[39mPathLike)):\n\u001B[0;32m--> 403\u001B[0m     ds \u001B[38;5;241m=\u001B[39m \u001B[43mOpen\u001B[49m\u001B[43m(\u001B[49m\u001B[43mds\u001B[49m\u001B[43m)\u001B[49m\n\u001B[1;32m    404\u001B[0m ret \u001B[38;5;241m=\u001B[39m InfoInternal(ds, opts)\n\u001B[1;32m    405\u001B[0m \u001B[38;5;28;01mif\u001B[39;00m \u001B[38;5;28mformat\u001B[39m \u001B[38;5;241m==\u001B[39m \u001B[38;5;124m'\u001B[39m\u001B[38;5;124mjson\u001B[39m\u001B[38;5;124m'\u001B[39m \u001B[38;5;129;01mand\u001B[39;00m deserialize:\n",
      "File \u001B[0;32m~/miniconda3/envs/treundici_dev/lib/python3.11/site-packages/osgeo/gdal.py:5990\u001B[0m, in \u001B[0;36mOpen\u001B[0;34m(*args)\u001B[0m\n\u001B[1;32m   5985\u001B[0m \u001B[38;5;250m\u001B[39m\u001B[38;5;124mr\u001B[39m\u001B[38;5;124;03m\"\"\"Open(char const * utf8_path, GDALAccess eAccess=GA_ReadOnly) -> Dataset\"\"\"\u001B[39;00m\n\u001B[1;32m   5987\u001B[0m _WarnIfUserHasNotSpecifiedIfUsingExceptions()\n\u001B[0;32m-> 5990\u001B[0m \u001B[38;5;28;01mreturn\u001B[39;00m \u001B[43m_gdal\u001B[49m\u001B[38;5;241;43m.\u001B[39;49m\u001B[43mOpen\u001B[49m\u001B[43m(\u001B[49m\u001B[38;5;241;43m*\u001B[39;49m\u001B[43margs\u001B[49m\u001B[43m)\u001B[49m\n",
      "\u001B[0;31mKeyboardInterrupt\u001B[0m: "
     ]
    }
   ],
   "source": [
    "timing = timeit.repeat('gdal.Info(\"/home/pier/AWS/tiles/32/T/PP/2024/2/10/0/R20m/B07.jp2\")', setup='from osgeo import gdal', repeat=30, number=1)"
   ],
   "metadata": {
    "collapsed": false,
    "ExecuteTime": {
     "end_time": "2024-02-14T15:55:52.395418758Z",
     "start_time": "2024-02-14T15:55:46.391130639Z"
    }
   },
   "id": "eeba4330e702a51e",
   "execution_count": 2
  },
  {
   "cell_type": "code",
   "outputs": [],
   "source": [
    "timing = np.array(timing)"
   ],
   "metadata": {
    "collapsed": false,
    "ExecuteTime": {
     "end_time": "2024-02-14T15:55:52.400175241Z",
     "start_time": "2024-02-14T15:55:52.396895328Z"
    }
   },
   "id": "23780b87ced206e",
   "execution_count": null
  },
  {
   "cell_type": "code",
   "outputs": [],
   "source": [
    "np.mean(timing).round(3)"
   ],
   "metadata": {
    "collapsed": false,
    "ExecuteTime": {
     "start_time": "2024-02-14T15:55:52.397541591Z"
    }
   },
   "id": "cfe8981194ed9575",
   "execution_count": null
  },
  {
   "cell_type": "code",
   "outputs": [],
   "source": [
    "np.std(timing).round(3)"
   ],
   "metadata": {
    "collapsed": false,
    "ExecuteTime": {
     "start_time": "2024-02-14T15:55:52.398377219Z"
    }
   },
   "id": "f4acf3f7fad35ee9",
   "execution_count": null
  },
  {
   "cell_type": "code",
   "outputs": [],
   "source": [],
   "metadata": {
    "collapsed": false
   },
   "id": "df76fc4ae71d99ff"
  }
 ],
 "metadata": {
  "kernelspec": {
   "display_name": "Python 3",
   "language": "python",
   "name": "python3"
  },
  "language_info": {
   "codemirror_mode": {
    "name": "ipython",
    "version": 2
   },
   "file_extension": ".py",
   "mimetype": "text/x-python",
   "name": "python",
   "nbconvert_exporter": "python",
   "pygments_lexer": "ipython2",
   "version": "2.7.6"
  }
 },
 "nbformat": 4,
 "nbformat_minor": 5
}
