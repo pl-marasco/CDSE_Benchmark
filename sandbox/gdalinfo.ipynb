{
 "cells": [
  {
   "cell_type": "code",
   "execution_count": 7,
   "id": "initial_id",
   "metadata": {
    "collapsed": true,
    "ExecuteTime": {
     "end_time": "2024-02-09T11:01:50.402910900Z",
     "start_time": "2024-02-09T11:01:50.400401100Z"
    }
   },
   "outputs": [],
   "source": [
    "from osgeo import gdal\n",
    "from glob import glob\n",
    "import pandas as pd\n",
    "import random"
   ]
  },
  {
   "cell_type": "code",
   "outputs": [],
   "source": [
    "date_range = pd.date_range('2018-01-01', '2020-12-31')\n",
    "root = fr'/eodata/Sentinel-2/MSI/L2A/'"
   ],
   "metadata": {
    "collapsed": false
   },
   "id": "bc73d17be527ce23",
   "execution_count": null
  },
  {
   "cell_type": "code",
   "outputs": [],
   "source": [
    "date_index = pd.Series(date_range)"
   ],
   "metadata": {
    "collapsed": false
   },
   "id": "a0f8a26c58517265",
   "execution_count": null
  },
  {
   "cell_type": "code",
   "outputs": [],
   "source": [
    "date_subset = date_index.sample(n=10)"
   ],
   "metadata": {
    "collapsed": false,
    "ExecuteTime": {
     "end_time": "2024-02-09T11:09:50.433608400Z",
     "start_time": "2024-02-09T11:09:50.417099400Z"
    }
   },
   "id": "d163674822eb4425",
   "execution_count": 26
  },
  {
   "cell_type": "code",
   "outputs": [
    {
     "name": "stdout",
     "output_type": "stream",
     "text": [
      "2018 7 19\n",
      "2019 4 1\n",
      "2018 6 10\n",
      "2018 12 18\n",
      "2020 6 30\n",
      "2019 8 3\n",
      "2020 8 13\n",
      "2020 4 22\n",
      "2018 6 6\n",
      "2019 12 13\n"
     ]
    }
   ],
   "source": [
    "random_path = []\n",
    "for date in date_subset:\n",
    "     yr = date.year\n",
    "     mm = date.month\n",
    "     dd = date.day\n",
    "     \n",
    "     random_path.append(glob(root + f'S2A_MSIL2A_{yr}{mm}{dd}T*.SAFE/GRANULE/L2A_T32UPU_A018116_{yr}{mm}{dd}T*.SAFE/IMG_DATA/R20m/*B17_10m.jp2'))\n",
    "     "
   ],
   "metadata": {
    "collapsed": false,
    "ExecuteTime": {
     "end_time": "2024-02-09T11:11:24.104306600Z",
     "start_time": "2024-02-09T11:11:24.088292Z"
    }
   },
   "id": "cd70d96384d79742",
   "execution_count": 30
  },
  {
   "cell_type": "code",
   "outputs": [],
   "source": [],
   "metadata": {
    "collapsed": false
   },
   "id": "87c269a595d15516"
  },
  {
   "cell_type": "code",
   "outputs": [],
   "source": [],
   "metadata": {
    "collapsed": false
   },
   "id": "6bfc1ca34a83ed97"
  },
  {
   "cell_type": "code",
   "outputs": [],
   "source": [
    "glob('./*.tif')"
   ],
   "metadata": {
    "collapsed": false
   },
   "id": "2827254a8e06a41c"
  }
 ],
 "metadata": {
  "kernelspec": {
   "display_name": "Python 3",
   "language": "python",
   "name": "python3"
  },
  "language_info": {
   "codemirror_mode": {
    "name": "ipython",
    "version": 2
   },
   "file_extension": ".py",
   "mimetype": "text/x-python",
   "name": "python",
   "nbconvert_exporter": "python",
   "pygments_lexer": "ipython2",
   "version": "2.7.6"
  }
 },
 "nbformat": 4,
 "nbformat_minor": 5
}
