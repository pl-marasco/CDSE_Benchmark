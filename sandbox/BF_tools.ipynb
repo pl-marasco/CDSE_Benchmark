{
 "cells": [
  {
   "cell_type": "code",
   "source": [
    "import geopandas as gpd\n",
    "import pandas as pd\n",
    "import random\n",
    "from shapely.geometry import Point, Polygon"
   ],
   "metadata": {
    "collapsed": false,
    "ExecuteTime": {
     "end_time": "2024-04-15T15:18:55.836793Z",
     "start_time": "2024-04-15T15:18:54.715369Z"
    }
   },
   "id": "cdd788b484f0dbf7",
   "outputs": [
    {
     "ename": "KeyboardInterrupt",
     "evalue": "",
     "output_type": "error",
     "traceback": [
      "\u001B[0;31m---------------------------------------------------------------------------\u001B[0m",
      "\u001B[0;31mKeyboardInterrupt\u001B[0m                         Traceback (most recent call last)",
      "Cell \u001B[0;32mIn[1], line 1\u001B[0m\n\u001B[0;32m----> 1\u001B[0m \u001B[38;5;28;01mimport\u001B[39;00m \u001B[38;5;21;01mgeopandas\u001B[39;00m \u001B[38;5;28;01mas\u001B[39;00m \u001B[38;5;21;01mgpd\u001B[39;00m\n\u001B[1;32m      2\u001B[0m \u001B[38;5;28;01mimport\u001B[39;00m \u001B[38;5;21;01mpandas\u001B[39;00m \u001B[38;5;28;01mas\u001B[39;00m \u001B[38;5;21;01mpd\u001B[39;00m\n\u001B[1;32m      3\u001B[0m \u001B[38;5;28;01mimport\u001B[39;00m \u001B[38;5;21;01mrandom\u001B[39;00m\n",
      "File \u001B[0;32m~/miniconda3/envs/treundici_dev/lib/python3.11/site-packages/geopandas/__init__.py:1\u001B[0m\n\u001B[0;32m----> 1\u001B[0m \u001B[38;5;28;01mfrom\u001B[39;00m \u001B[38;5;21;01mgeopandas\u001B[39;00m\u001B[38;5;21;01m.\u001B[39;00m\u001B[38;5;21;01m_config\u001B[39;00m \u001B[38;5;28;01mimport\u001B[39;00m options\n\u001B[1;32m      3\u001B[0m \u001B[38;5;28;01mfrom\u001B[39;00m \u001B[38;5;21;01mgeopandas\u001B[39;00m\u001B[38;5;21;01m.\u001B[39;00m\u001B[38;5;21;01mgeoseries\u001B[39;00m \u001B[38;5;28;01mimport\u001B[39;00m GeoSeries\n\u001B[1;32m      4\u001B[0m \u001B[38;5;28;01mfrom\u001B[39;00m \u001B[38;5;21;01mgeopandas\u001B[39;00m\u001B[38;5;21;01m.\u001B[39;00m\u001B[38;5;21;01mgeodataframe\u001B[39;00m \u001B[38;5;28;01mimport\u001B[39;00m GeoDataFrame\n",
      "File \u001B[0;32m~/miniconda3/envs/treundici_dev/lib/python3.11/site-packages/geopandas/_config.py:109\u001B[0m\n\u001B[1;32m    102\u001B[0m     \u001B[38;5;28;01mimport\u001B[39;00m \u001B[38;5;21;01mgeopandas\u001B[39;00m\u001B[38;5;21;01m.\u001B[39;00m\u001B[38;5;21;01m_compat\u001B[39;00m \u001B[38;5;28;01mas\u001B[39;00m \u001B[38;5;21;01mcompat\u001B[39;00m\n\u001B[1;32m    104\u001B[0m     compat\u001B[38;5;241m.\u001B[39mset_use_pygeos(value)\n\u001B[1;32m    107\u001B[0m use_pygeos \u001B[38;5;241m=\u001B[39m Option(\n\u001B[1;32m    108\u001B[0m     key\u001B[38;5;241m=\u001B[39m\u001B[38;5;124m\"\u001B[39m\u001B[38;5;124muse_pygeos\u001B[39m\u001B[38;5;124m\"\u001B[39m,\n\u001B[0;32m--> 109\u001B[0m     default_value\u001B[38;5;241m=\u001B[39m\u001B[43m_default_use_pygeos\u001B[49m\u001B[43m(\u001B[49m\u001B[43m)\u001B[49m,\n\u001B[1;32m    110\u001B[0m     doc\u001B[38;5;241m=\u001B[39m(\n\u001B[1;32m    111\u001B[0m         \u001B[38;5;124m\"\u001B[39m\u001B[38;5;124mWhether to use PyGEOS to speed up spatial operations. The default is True \u001B[39m\u001B[38;5;124m\"\u001B[39m\n\u001B[1;32m    112\u001B[0m         \u001B[38;5;124m\"\u001B[39m\u001B[38;5;124mif PyGEOS is installed, and follows the USE_PYGEOS environment variable \u001B[39m\u001B[38;5;124m\"\u001B[39m\n\u001B[1;32m    113\u001B[0m         \u001B[38;5;124m\"\u001B[39m\u001B[38;5;124mif set.\u001B[39m\u001B[38;5;124m\"\u001B[39m\n\u001B[1;32m    114\u001B[0m     ),\n\u001B[1;32m    115\u001B[0m     validator\u001B[38;5;241m=\u001B[39m_validate_bool,\n\u001B[1;32m    116\u001B[0m     callback\u001B[38;5;241m=\u001B[39m_callback_use_pygeos,\n\u001B[1;32m    117\u001B[0m )\n\u001B[1;32m    120\u001B[0m \u001B[38;5;28;01mdef\u001B[39;00m \u001B[38;5;21m_validate_io_engine\u001B[39m(value):\n\u001B[1;32m    121\u001B[0m     \u001B[38;5;28;01mif\u001B[39;00m value \u001B[38;5;129;01mis\u001B[39;00m \u001B[38;5;129;01mnot\u001B[39;00m \u001B[38;5;28;01mNone\u001B[39;00m:\n",
      "File \u001B[0;32m~/miniconda3/envs/treundici_dev/lib/python3.11/site-packages/geopandas/_config.py:95\u001B[0m, in \u001B[0;36m_default_use_pygeos\u001B[0;34m()\u001B[0m\n\u001B[1;32m     94\u001B[0m \u001B[38;5;28;01mdef\u001B[39;00m \u001B[38;5;21m_default_use_pygeos\u001B[39m():\n\u001B[0;32m---> 95\u001B[0m     \u001B[38;5;28;01mimport\u001B[39;00m \u001B[38;5;21;01mgeopandas\u001B[39;00m\u001B[38;5;21;01m.\u001B[39;00m\u001B[38;5;21;01m_compat\u001B[39;00m \u001B[38;5;28;01mas\u001B[39;00m \u001B[38;5;21;01mcompat\u001B[39;00m\n\u001B[1;32m     97\u001B[0m     \u001B[38;5;28;01mreturn\u001B[39;00m compat\u001B[38;5;241m.\u001B[39mUSE_PYGEOS\n",
      "File \u001B[0;32m~/miniconda3/envs/treundici_dev/lib/python3.11/site-packages/geopandas/_compat.py:8\u001B[0m\n\u001B[1;32m      5\u001B[0m \u001B[38;5;28;01mimport\u001B[39;00m \u001B[38;5;21;01mwarnings\u001B[39;00m\n\u001B[1;32m      7\u001B[0m \u001B[38;5;28;01mimport\u001B[39;00m \u001B[38;5;21;01mnumpy\u001B[39;00m \u001B[38;5;28;01mas\u001B[39;00m \u001B[38;5;21;01mnp\u001B[39;00m\n\u001B[0;32m----> 8\u001B[0m \u001B[38;5;28;01mimport\u001B[39;00m \u001B[38;5;21;01mpandas\u001B[39;00m \u001B[38;5;28;01mas\u001B[39;00m \u001B[38;5;21;01mpd\u001B[39;00m\n\u001B[1;32m      9\u001B[0m \u001B[38;5;28;01mimport\u001B[39;00m \u001B[38;5;21;01mshapely\u001B[39;00m\n\u001B[1;32m     10\u001B[0m \u001B[38;5;28;01mimport\u001B[39;00m \u001B[38;5;21;01mshapely\u001B[39;00m\u001B[38;5;21;01m.\u001B[39;00m\u001B[38;5;21;01mgeos\u001B[39;00m\n",
      "File \u001B[0;32m~/miniconda3/envs/treundici_dev/lib/python3.11/site-packages/pandas/__init__.py:49\u001B[0m\n\u001B[1;32m     46\u001B[0m \u001B[38;5;66;03m# let init-time option registration happen\u001B[39;00m\n\u001B[1;32m     47\u001B[0m \u001B[38;5;28;01mimport\u001B[39;00m \u001B[38;5;21;01mpandas\u001B[39;00m\u001B[38;5;21;01m.\u001B[39;00m\u001B[38;5;21;01mcore\u001B[39;00m\u001B[38;5;21;01m.\u001B[39;00m\u001B[38;5;21;01mconfig_init\u001B[39;00m  \u001B[38;5;66;03m# pyright: ignore[reportUnusedImport] # noqa: F401\u001B[39;00m\n\u001B[0;32m---> 49\u001B[0m \u001B[38;5;28;01mfrom\u001B[39;00m \u001B[38;5;21;01mpandas\u001B[39;00m\u001B[38;5;21;01m.\u001B[39;00m\u001B[38;5;21;01mcore\u001B[39;00m\u001B[38;5;21;01m.\u001B[39;00m\u001B[38;5;21;01mapi\u001B[39;00m \u001B[38;5;28;01mimport\u001B[39;00m (\n\u001B[1;32m     50\u001B[0m     \u001B[38;5;66;03m# dtype\u001B[39;00m\n\u001B[1;32m     51\u001B[0m     ArrowDtype,\n\u001B[1;32m     52\u001B[0m     Int8Dtype,\n\u001B[1;32m     53\u001B[0m     Int16Dtype,\n\u001B[1;32m     54\u001B[0m     Int32Dtype,\n\u001B[1;32m     55\u001B[0m     Int64Dtype,\n\u001B[1;32m     56\u001B[0m     UInt8Dtype,\n\u001B[1;32m     57\u001B[0m     UInt16Dtype,\n\u001B[1;32m     58\u001B[0m     UInt32Dtype,\n\u001B[1;32m     59\u001B[0m     UInt64Dtype,\n\u001B[1;32m     60\u001B[0m     Float32Dtype,\n\u001B[1;32m     61\u001B[0m     Float64Dtype,\n\u001B[1;32m     62\u001B[0m     CategoricalDtype,\n\u001B[1;32m     63\u001B[0m     PeriodDtype,\n\u001B[1;32m     64\u001B[0m     IntervalDtype,\n\u001B[1;32m     65\u001B[0m     DatetimeTZDtype,\n\u001B[1;32m     66\u001B[0m     StringDtype,\n\u001B[1;32m     67\u001B[0m     BooleanDtype,\n\u001B[1;32m     68\u001B[0m     \u001B[38;5;66;03m# missing\u001B[39;00m\n\u001B[1;32m     69\u001B[0m     NA,\n\u001B[1;32m     70\u001B[0m     isna,\n\u001B[1;32m     71\u001B[0m     isnull,\n\u001B[1;32m     72\u001B[0m     notna,\n\u001B[1;32m     73\u001B[0m     notnull,\n\u001B[1;32m     74\u001B[0m     \u001B[38;5;66;03m# indexes\u001B[39;00m\n\u001B[1;32m     75\u001B[0m     Index,\n\u001B[1;32m     76\u001B[0m     CategoricalIndex,\n\u001B[1;32m     77\u001B[0m     RangeIndex,\n\u001B[1;32m     78\u001B[0m     MultiIndex,\n\u001B[1;32m     79\u001B[0m     IntervalIndex,\n\u001B[1;32m     80\u001B[0m     TimedeltaIndex,\n\u001B[1;32m     81\u001B[0m     DatetimeIndex,\n\u001B[1;32m     82\u001B[0m     PeriodIndex,\n\u001B[1;32m     83\u001B[0m     IndexSlice,\n\u001B[1;32m     84\u001B[0m     \u001B[38;5;66;03m# tseries\u001B[39;00m\n\u001B[1;32m     85\u001B[0m     NaT,\n\u001B[1;32m     86\u001B[0m     Period,\n\u001B[1;32m     87\u001B[0m     period_range,\n\u001B[1;32m     88\u001B[0m     Timedelta,\n\u001B[1;32m     89\u001B[0m     timedelta_range,\n\u001B[1;32m     90\u001B[0m     Timestamp,\n\u001B[1;32m     91\u001B[0m     date_range,\n\u001B[1;32m     92\u001B[0m     bdate_range,\n\u001B[1;32m     93\u001B[0m     Interval,\n\u001B[1;32m     94\u001B[0m     interval_range,\n\u001B[1;32m     95\u001B[0m     DateOffset,\n\u001B[1;32m     96\u001B[0m     \u001B[38;5;66;03m# conversion\u001B[39;00m\n\u001B[1;32m     97\u001B[0m     to_numeric,\n\u001B[1;32m     98\u001B[0m     to_datetime,\n\u001B[1;32m     99\u001B[0m     to_timedelta,\n\u001B[1;32m    100\u001B[0m     \u001B[38;5;66;03m# misc\u001B[39;00m\n\u001B[1;32m    101\u001B[0m     Flags,\n\u001B[1;32m    102\u001B[0m     Grouper,\n\u001B[1;32m    103\u001B[0m     factorize,\n\u001B[1;32m    104\u001B[0m     unique,\n\u001B[1;32m    105\u001B[0m     value_counts,\n\u001B[1;32m    106\u001B[0m     NamedAgg,\n\u001B[1;32m    107\u001B[0m     array,\n\u001B[1;32m    108\u001B[0m     Categorical,\n\u001B[1;32m    109\u001B[0m     set_eng_float_format,\n\u001B[1;32m    110\u001B[0m     Series,\n\u001B[1;32m    111\u001B[0m     DataFrame,\n\u001B[1;32m    112\u001B[0m )\n\u001B[1;32m    114\u001B[0m \u001B[38;5;28;01mfrom\u001B[39;00m \u001B[38;5;21;01mpandas\u001B[39;00m\u001B[38;5;21;01m.\u001B[39;00m\u001B[38;5;21;01mcore\u001B[39;00m\u001B[38;5;21;01m.\u001B[39;00m\u001B[38;5;21;01mdtypes\u001B[39;00m\u001B[38;5;21;01m.\u001B[39;00m\u001B[38;5;21;01mdtypes\u001B[39;00m \u001B[38;5;28;01mimport\u001B[39;00m SparseDtype\n\u001B[1;32m    116\u001B[0m \u001B[38;5;28;01mfrom\u001B[39;00m \u001B[38;5;21;01mpandas\u001B[39;00m\u001B[38;5;21;01m.\u001B[39;00m\u001B[38;5;21;01mtseries\u001B[39;00m\u001B[38;5;21;01m.\u001B[39;00m\u001B[38;5;21;01mapi\u001B[39;00m \u001B[38;5;28;01mimport\u001B[39;00m infer_freq\n",
      "File \u001B[0;32m~/miniconda3/envs/treundici_dev/lib/python3.11/site-packages/pandas/core/api.py:47\u001B[0m\n\u001B[1;32m     45\u001B[0m \u001B[38;5;28;01mfrom\u001B[39;00m \u001B[38;5;21;01mpandas\u001B[39;00m\u001B[38;5;21;01m.\u001B[39;00m\u001B[38;5;21;01mcore\u001B[39;00m\u001B[38;5;21;01m.\u001B[39;00m\u001B[38;5;21;01mconstruction\u001B[39;00m \u001B[38;5;28;01mimport\u001B[39;00m array\n\u001B[1;32m     46\u001B[0m \u001B[38;5;28;01mfrom\u001B[39;00m \u001B[38;5;21;01mpandas\u001B[39;00m\u001B[38;5;21;01m.\u001B[39;00m\u001B[38;5;21;01mcore\u001B[39;00m\u001B[38;5;21;01m.\u001B[39;00m\u001B[38;5;21;01mflags\u001B[39;00m \u001B[38;5;28;01mimport\u001B[39;00m Flags\n\u001B[0;32m---> 47\u001B[0m \u001B[38;5;28;01mfrom\u001B[39;00m \u001B[38;5;21;01mpandas\u001B[39;00m\u001B[38;5;21;01m.\u001B[39;00m\u001B[38;5;21;01mcore\u001B[39;00m\u001B[38;5;21;01m.\u001B[39;00m\u001B[38;5;21;01mgroupby\u001B[39;00m \u001B[38;5;28;01mimport\u001B[39;00m (\n\u001B[1;32m     48\u001B[0m     Grouper,\n\u001B[1;32m     49\u001B[0m     NamedAgg,\n\u001B[1;32m     50\u001B[0m )\n\u001B[1;32m     51\u001B[0m \u001B[38;5;28;01mfrom\u001B[39;00m \u001B[38;5;21;01mpandas\u001B[39;00m\u001B[38;5;21;01m.\u001B[39;00m\u001B[38;5;21;01mcore\u001B[39;00m\u001B[38;5;21;01m.\u001B[39;00m\u001B[38;5;21;01mindexes\u001B[39;00m\u001B[38;5;21;01m.\u001B[39;00m\u001B[38;5;21;01mapi\u001B[39;00m \u001B[38;5;28;01mimport\u001B[39;00m (\n\u001B[1;32m     52\u001B[0m     CategoricalIndex,\n\u001B[1;32m     53\u001B[0m     DatetimeIndex,\n\u001B[0;32m   (...)\u001B[0m\n\u001B[1;32m     59\u001B[0m     TimedeltaIndex,\n\u001B[1;32m     60\u001B[0m )\n\u001B[1;32m     61\u001B[0m \u001B[38;5;28;01mfrom\u001B[39;00m \u001B[38;5;21;01mpandas\u001B[39;00m\u001B[38;5;21;01m.\u001B[39;00m\u001B[38;5;21;01mcore\u001B[39;00m\u001B[38;5;21;01m.\u001B[39;00m\u001B[38;5;21;01mindexes\u001B[39;00m\u001B[38;5;21;01m.\u001B[39;00m\u001B[38;5;21;01mdatetimes\u001B[39;00m \u001B[38;5;28;01mimport\u001B[39;00m (\n\u001B[1;32m     62\u001B[0m     bdate_range,\n\u001B[1;32m     63\u001B[0m     date_range,\n\u001B[1;32m     64\u001B[0m )\n",
      "File \u001B[0;32m~/miniconda3/envs/treundici_dev/lib/python3.11/site-packages/pandas/core/groupby/__init__.py:1\u001B[0m\n\u001B[0;32m----> 1\u001B[0m \u001B[38;5;28;01mfrom\u001B[39;00m \u001B[38;5;21;01mpandas\u001B[39;00m\u001B[38;5;21;01m.\u001B[39;00m\u001B[38;5;21;01mcore\u001B[39;00m\u001B[38;5;21;01m.\u001B[39;00m\u001B[38;5;21;01mgroupby\u001B[39;00m\u001B[38;5;21;01m.\u001B[39;00m\u001B[38;5;21;01mgeneric\u001B[39;00m \u001B[38;5;28;01mimport\u001B[39;00m (\n\u001B[1;32m      2\u001B[0m     DataFrameGroupBy,\n\u001B[1;32m      3\u001B[0m     NamedAgg,\n\u001B[1;32m      4\u001B[0m     SeriesGroupBy,\n\u001B[1;32m      5\u001B[0m )\n\u001B[1;32m      6\u001B[0m \u001B[38;5;28;01mfrom\u001B[39;00m \u001B[38;5;21;01mpandas\u001B[39;00m\u001B[38;5;21;01m.\u001B[39;00m\u001B[38;5;21;01mcore\u001B[39;00m\u001B[38;5;21;01m.\u001B[39;00m\u001B[38;5;21;01mgroupby\u001B[39;00m\u001B[38;5;21;01m.\u001B[39;00m\u001B[38;5;21;01mgroupby\u001B[39;00m \u001B[38;5;28;01mimport\u001B[39;00m GroupBy\n\u001B[1;32m      7\u001B[0m \u001B[38;5;28;01mfrom\u001B[39;00m \u001B[38;5;21;01mpandas\u001B[39;00m\u001B[38;5;21;01m.\u001B[39;00m\u001B[38;5;21;01mcore\u001B[39;00m\u001B[38;5;21;01m.\u001B[39;00m\u001B[38;5;21;01mgroupby\u001B[39;00m\u001B[38;5;21;01m.\u001B[39;00m\u001B[38;5;21;01mgrouper\u001B[39;00m \u001B[38;5;28;01mimport\u001B[39;00m Grouper\n",
      "File \u001B[0;32m~/miniconda3/envs/treundici_dev/lib/python3.11/site-packages/pandas/core/groupby/generic.py:68\u001B[0m\n\u001B[1;32m     60\u001B[0m \u001B[38;5;28;01mfrom\u001B[39;00m \u001B[38;5;21;01mpandas\u001B[39;00m\u001B[38;5;21;01m.\u001B[39;00m\u001B[38;5;21;01mcore\u001B[39;00m\u001B[38;5;21;01m.\u001B[39;00m\u001B[38;5;21;01mapply\u001B[39;00m \u001B[38;5;28;01mimport\u001B[39;00m (\n\u001B[1;32m     61\u001B[0m     GroupByApply,\n\u001B[1;32m     62\u001B[0m     maybe_mangle_lambdas,\n\u001B[0;32m   (...)\u001B[0m\n\u001B[1;32m     65\u001B[0m     warn_alias_replacement,\n\u001B[1;32m     66\u001B[0m )\n\u001B[1;32m     67\u001B[0m \u001B[38;5;28;01mimport\u001B[39;00m \u001B[38;5;21;01mpandas\u001B[39;00m\u001B[38;5;21;01m.\u001B[39;00m\u001B[38;5;21;01mcore\u001B[39;00m\u001B[38;5;21;01m.\u001B[39;00m\u001B[38;5;21;01mcommon\u001B[39;00m \u001B[38;5;28;01mas\u001B[39;00m \u001B[38;5;21;01mcom\u001B[39;00m\n\u001B[0;32m---> 68\u001B[0m \u001B[38;5;28;01mfrom\u001B[39;00m \u001B[38;5;21;01mpandas\u001B[39;00m\u001B[38;5;21;01m.\u001B[39;00m\u001B[38;5;21;01mcore\u001B[39;00m\u001B[38;5;21;01m.\u001B[39;00m\u001B[38;5;21;01mframe\u001B[39;00m \u001B[38;5;28;01mimport\u001B[39;00m DataFrame\n\u001B[1;32m     69\u001B[0m \u001B[38;5;28;01mfrom\u001B[39;00m \u001B[38;5;21;01mpandas\u001B[39;00m\u001B[38;5;21;01m.\u001B[39;00m\u001B[38;5;21;01mcore\u001B[39;00m\u001B[38;5;21;01m.\u001B[39;00m\u001B[38;5;21;01mgroupby\u001B[39;00m \u001B[38;5;28;01mimport\u001B[39;00m (\n\u001B[1;32m     70\u001B[0m     base,\n\u001B[1;32m     71\u001B[0m     ops,\n\u001B[1;32m     72\u001B[0m )\n\u001B[1;32m     73\u001B[0m \u001B[38;5;28;01mfrom\u001B[39;00m \u001B[38;5;21;01mpandas\u001B[39;00m\u001B[38;5;21;01m.\u001B[39;00m\u001B[38;5;21;01mcore\u001B[39;00m\u001B[38;5;21;01m.\u001B[39;00m\u001B[38;5;21;01mgroupby\u001B[39;00m\u001B[38;5;21;01m.\u001B[39;00m\u001B[38;5;21;01mgroupby\u001B[39;00m \u001B[38;5;28;01mimport\u001B[39;00m (\n\u001B[1;32m     74\u001B[0m     GroupBy,\n\u001B[1;32m     75\u001B[0m     GroupByPlot,\n\u001B[0;32m   (...)\u001B[0m\n\u001B[1;32m     79\u001B[0m     _transform_template,\n\u001B[1;32m     80\u001B[0m )\n",
      "File \u001B[0;32m~/miniconda3/envs/treundici_dev/lib/python3.11/site-packages/pandas/core/frame.py:188\u001B[0m\n\u001B[1;32m    186\u001B[0m \u001B[38;5;28;01mfrom\u001B[39;00m \u001B[38;5;21;01mpandas\u001B[39;00m\u001B[38;5;21;01m.\u001B[39;00m\u001B[38;5;21;01mcore\u001B[39;00m\u001B[38;5;21;01m.\u001B[39;00m\u001B[38;5;21;01mmethods\u001B[39;00m \u001B[38;5;28;01mimport\u001B[39;00m selectn\n\u001B[1;32m    187\u001B[0m \u001B[38;5;28;01mfrom\u001B[39;00m \u001B[38;5;21;01mpandas\u001B[39;00m\u001B[38;5;21;01m.\u001B[39;00m\u001B[38;5;21;01mcore\u001B[39;00m\u001B[38;5;21;01m.\u001B[39;00m\u001B[38;5;21;01mreshape\u001B[39;00m\u001B[38;5;21;01m.\u001B[39;00m\u001B[38;5;21;01mmelt\u001B[39;00m \u001B[38;5;28;01mimport\u001B[39;00m melt\n\u001B[0;32m--> 188\u001B[0m \u001B[38;5;28;01mfrom\u001B[39;00m \u001B[38;5;21;01mpandas\u001B[39;00m\u001B[38;5;21;01m.\u001B[39;00m\u001B[38;5;21;01mcore\u001B[39;00m\u001B[38;5;21;01m.\u001B[39;00m\u001B[38;5;21;01mseries\u001B[39;00m \u001B[38;5;28;01mimport\u001B[39;00m Series\n\u001B[1;32m    189\u001B[0m \u001B[38;5;28;01mfrom\u001B[39;00m \u001B[38;5;21;01mpandas\u001B[39;00m\u001B[38;5;21;01m.\u001B[39;00m\u001B[38;5;21;01mcore\u001B[39;00m\u001B[38;5;21;01m.\u001B[39;00m\u001B[38;5;21;01mshared_docs\u001B[39;00m \u001B[38;5;28;01mimport\u001B[39;00m _shared_docs\n\u001B[1;32m    190\u001B[0m \u001B[38;5;28;01mfrom\u001B[39;00m \u001B[38;5;21;01mpandas\u001B[39;00m\u001B[38;5;21;01m.\u001B[39;00m\u001B[38;5;21;01mcore\u001B[39;00m\u001B[38;5;21;01m.\u001B[39;00m\u001B[38;5;21;01msorting\u001B[39;00m \u001B[38;5;28;01mimport\u001B[39;00m (\n\u001B[1;32m    191\u001B[0m     get_group_index,\n\u001B[1;32m    192\u001B[0m     lexsort_indexer,\n\u001B[1;32m    193\u001B[0m     nargsort,\n\u001B[1;32m    194\u001B[0m )\n",
      "File \u001B[0;32m~/miniconda3/envs/treundici_dev/lib/python3.11/site-packages/pandas/core/series.py:35\u001B[0m\n\u001B[1;32m     29\u001B[0m \u001B[38;5;28;01mfrom\u001B[39;00m \u001B[38;5;21;01mpandas\u001B[39;00m\u001B[38;5;21;01m.\u001B[39;00m\u001B[38;5;21;01m_config\u001B[39;00m \u001B[38;5;28;01mimport\u001B[39;00m (\n\u001B[1;32m     30\u001B[0m     using_copy_on_write,\n\u001B[1;32m     31\u001B[0m     warn_copy_on_write,\n\u001B[1;32m     32\u001B[0m )\n\u001B[1;32m     33\u001B[0m \u001B[38;5;28;01mfrom\u001B[39;00m \u001B[38;5;21;01mpandas\u001B[39;00m\u001B[38;5;21;01m.\u001B[39;00m\u001B[38;5;21;01m_config\u001B[39;00m\u001B[38;5;21;01m.\u001B[39;00m\u001B[38;5;21;01mconfig\u001B[39;00m \u001B[38;5;28;01mimport\u001B[39;00m _get_option\n\u001B[0;32m---> 35\u001B[0m \u001B[38;5;28;01mfrom\u001B[39;00m \u001B[38;5;21;01mpandas\u001B[39;00m\u001B[38;5;21;01m.\u001B[39;00m\u001B[38;5;21;01m_libs\u001B[39;00m \u001B[38;5;28;01mimport\u001B[39;00m (\n\u001B[1;32m     36\u001B[0m     lib,\n\u001B[1;32m     37\u001B[0m     properties,\n\u001B[1;32m     38\u001B[0m     reshape,\n\u001B[1;32m     39\u001B[0m )\n\u001B[1;32m     40\u001B[0m \u001B[38;5;28;01mfrom\u001B[39;00m \u001B[38;5;21;01mpandas\u001B[39;00m\u001B[38;5;21;01m.\u001B[39;00m\u001B[38;5;21;01m_libs\u001B[39;00m\u001B[38;5;21;01m.\u001B[39;00m\u001B[38;5;21;01mlib\u001B[39;00m \u001B[38;5;28;01mimport\u001B[39;00m is_range_indexer\n\u001B[1;32m     41\u001B[0m \u001B[38;5;28;01mfrom\u001B[39;00m \u001B[38;5;21;01mpandas\u001B[39;00m\u001B[38;5;21;01m.\u001B[39;00m\u001B[38;5;21;01mcompat\u001B[39;00m \u001B[38;5;28;01mimport\u001B[39;00m PYPY\n",
      "File \u001B[0;32m<frozen importlib._bootstrap>:405\u001B[0m, in \u001B[0;36mparent\u001B[0;34m(self)\u001B[0m\n",
      "\u001B[0;31mKeyboardInterrupt\u001B[0m: "
     ]
    }
   ],
   "execution_count": 1
  },
  {
   "cell_type": "code",
   "source": [
    "def generate_random_points(num_points, lat_range, lon_range):\n",
    "    \"\"\"Generate a GeoDataFrame of random (latitude, longitude) points.\"\"\"\n",
    "    random.seed(1492)\n",
    "    latitudes = [random.uniform(*lat_range) for _ in range(num_points)]\n",
    "    longitudes = [random.uniform(*lon_range) for _ in range(num_points)]\n",
    "    points = [Point(lon, lat) for lat, lon in zip(latitudes, longitudes)]\n",
    "    return gpd.GeoDataFrame(geometry=points)\n"
   ],
   "metadata": {
    "collapsed": false
   },
   "id": "e7d362956aa7a61a",
   "outputs": [],
   "execution_count": null
  },
  {
   "cell_type": "code",
   "source": [
    "def read_kml_to_gdf(kml_file_path):\n",
    "    \"\"\"Convert KML file to GeoDataFrame.\"\"\"\n",
    "    # Note: GeoPandas might not directly read KML files depending on the environment setup.\n",
    "    # An alternative is to convert the KML to GeoJSON or another supported format first.\n",
    "    # This example assumes a direct read for simplicity.\n",
    "    gpd.io.file.fiona.drvsupport.supported_drivers['KML'] = 'rw'\n",
    "    return gpd.read_file(kml_file_path, driver='KML')\n"
   ],
   "metadata": {
    "collapsed": false
   },
   "id": "56880107a27f5dd5",
   "outputs": [],
   "execution_count": null
  },
  {
   "cell_type": "code",
   "source": [
    "def find_polygons_containing_points(polygons_gdf, points_gdf):\n",
    "    \"\"\"Filter polygons that contain any of the points.\"\"\"\n",
    "    selected_polygons = gpd.GeoDataFrame()\n",
    "    for point in points_gdf.geometry:\n",
    "        contains = polygons_gdf.contains(point)\n",
    "        selected_polygons = pd.concat([selected_polygons, polygons_gdf[contains]])\n",
    "    return selected_polygons.drop_duplicates()\n"
   ],
   "metadata": {
    "collapsed": false
   },
   "id": "d79b64ef08184583",
   "outputs": [],
   "execution_count": null
  },
  {
   "cell_type": "code",
   "source": [
    "# Example usage\n",
    "num_points = 30\n",
    "lat_range = (-90, 90)  # Example latitude range\n",
    "lon_range = (-180, 180)  # Example longitude range\n",
    "\n",
    "# Generate random points\n",
    "random_points_gdf = generate_random_points(num_points, lat_range, lon_range)"
   ],
   "metadata": {
    "collapsed": false
   },
   "id": "5e4d091be15fa7c0",
   "outputs": [],
   "execution_count": null
  },
  {
   "cell_type": "code",
   "source": [
    "# Read KML file to GeoDataFrame\n",
    "kml_file_path = 'data/S2A_OPER_GIP_TILPAR_MPC__20151209T095117_V20150622T000000_21000101T000000_B00.kml'\n",
    "polygons_gdf = read_kml_to_gdf(kml_file_path)"
   ],
   "metadata": {
    "collapsed": false
   },
   "id": "5026c21b9dd6fdbc",
   "outputs": [],
   "execution_count": null
  },
  {
   "cell_type": "code",
   "source": [
    "# Find polygons containing any of the random points\n",
    "selected_polygons = find_polygons_containing_points(polygons_gdf, random_points_gdf)"
   ],
   "metadata": {
    "collapsed": false
   },
   "id": "d60a4c819683102a",
   "outputs": [],
   "execution_count": null
  },
  {
   "cell_type": "code",
   "source": [
    "selected_polygons['Name']"
   ],
   "metadata": {
    "collapsed": false
   },
   "id": "95a597056ebf0aca",
   "outputs": [],
   "execution_count": null
  },
  {
   "cell_type": "code",
   "source": [
    "\n",
    "# Print or process selected polygons\n",
    "print(f\"Found {len(selected_polygons)} polygons containing the random points.\")\n"
   ],
   "metadata": {
    "collapsed": false
   },
   "id": "a533784fac1fa4b6",
   "outputs": [],
   "execution_count": null
  },
  {
   "cell_type": "code",
   "source": [],
   "metadata": {
    "collapsed": false
   },
   "id": "72f50b8f022ba95b",
   "outputs": [],
   "execution_count": null
  }
 ],
 "metadata": {
  "kernelspec": {
   "display_name": "Python 3",
   "language": "python",
   "name": "python3"
  },
  "language_info": {
   "codemirror_mode": {
    "name": "ipython",
    "version": 2
   },
   "file_extension": ".py",
   "mimetype": "text/x-python",
   "name": "python",
   "nbconvert_exporter": "python",
   "pygments_lexer": "ipython2",
   "version": "2.7.6"
  }
 },
 "nbformat": 4,
 "nbformat_minor": 5
}
