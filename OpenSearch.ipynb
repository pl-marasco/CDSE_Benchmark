{
 "cells": [
  {
   "cell_type": "code",
   "execution_count": 8,
   "id": "4bd10cd866dcc5ba",
   "metadata": {
    "collapsed": false,
    "ExecuteTime": {
     "end_time": "2024-02-14T16:52:52.431520502Z",
     "start_time": "2024-02-14T16:52:52.371695113Z"
    }
   },
   "outputs": [],
   "source": [
    "import glob\n",
    "import json\n",
    "import requests"
   ]
  },
  {
   "cell_type": "code",
   "outputs": [],
   "source": [
    "def get_access_token(username: str, password: str, otp: int) -> str:\n",
    "    data = {\n",
    "        \"client_id\": \"cdse-public\",\n",
    "        \"username\": username,\n",
    "        \"password\": password,\n",
    "        \"totp\": otp,\n",
    "        \"grant_type\": \"password\",\n",
    "    }\n",
    "    try:\n",
    "        r = requests.post(\"https://identity.dataspace.copernicus.eu/auth/realms/CDSE/protocol/openid-connect/token\",\n",
    "                          data=data,\n",
    "                          )\n",
    "        r.raise_for_status()\n",
    "    except Exception as e:\n",
    "        raise Exception(\n",
    "            f\"Access token creation failed. Reponse from the server was: {r.json()}\"\n",
    "        )\n",
    "    return r.json()[\"access_token\"]"
   ],
   "metadata": {
    "collapsed": false,
    "ExecuteTime": {
     "end_time": "2024-02-14T16:52:52.722647383Z",
     "start_time": "2024-02-14T16:52:52.714116756Z"
    }
   },
   "id": "218f6bf30e445812",
   "execution_count": 9
  },
  {
   "cell_type": "code",
   "outputs": [],
   "source": [
    "# access_token = get_access_token(\"pl.marasco@gmail.com\", \"Firenze@2023\")\n",
    "access_token = get_access_token(\"pierlorenzo.marasco@ext.ec.europa.eu\", \"nh5:6_Qw5Ur!5MS\", \"398576\")"
   ],
   "metadata": {
    "collapsed": true,
    "ExecuteTime": {
     "end_time": "2024-02-14T16:53:16.355738549Z",
     "start_time": "2024-02-14T16:53:16.026412704Z"
    }
   },
   "id": "initial_id",
   "execution_count": 10
  },
  {
   "cell_type": "code",
   "outputs": [],
   "source": [
    "import requests\n",
    "\n",
    "# JSON parser\n",
    "import json\n",
    "\n",
    "# XML parser\n",
    "import xml.etree.ElementTree as ET\n",
    "\n",
    "# system modules\n",
    "import os\n",
    "import re\n",
    "import sys\n",
    "import random\n",
    "\n",
    "# data manipulation\n",
    "import pandas as pd\n",
    "import numpy as np\n",
    "\n",
    "# image manipulation\n",
    "import rasterio\n",
    "import matplotlib.pyplot as plt\n",
    "import matplotlib.image\n",
    "from rasterio.windows import Window\n",
    "\n",
    "# file manipulation\n",
    "from pathlib import Path"
   ],
   "metadata": {
    "collapsed": false,
    "ExecuteTime": {
     "end_time": "2024-02-14T16:53:17.546317903Z",
     "start_time": "2024-02-14T16:53:17.538973623Z"
    }
   },
   "id": "c395e4b94494d885",
   "execution_count": 11
  },
  {
   "cell_type": "code",
   "outputs": [],
   "source": [
    "# base URL of the product catalogue\n",
    "catalogue_odata_url = \"https://catalogue.dataspace.copernicus.eu/odata/v1\"\n",
    "\n",
    "# search parameters\n",
    "collection_name = \"SENTINEL-2\"\n",
    "product_type = \"S2MSI2A\"\n",
    "max_cloud_cover = 100\n",
    "aoi = \"POINT (70.127 -79.625)\"\n",
    "search_period_start = \"2020-01-01T00:00:00.000Z\"\n",
    "search_period_end = \"2024-02-10T00:00:00.000Z\""
   ],
   "metadata": {
    "collapsed": false,
    "ExecuteTime": {
     "end_time": "2024-02-14T17:09:00.553271735Z",
     "start_time": "2024-02-14T17:09:00.547010174Z"
    }
   },
   "id": "7d9cac96af86aac3",
   "execution_count": 34
  },
  {
   "cell_type": "code",
   "outputs": [],
   "source": [
    "search_query = f\"{catalogue_odata_url}/Products?$filter=Collection/Name eq '{collection_name}' and Attributes/OData.CSC.StringAttribute/any(att:att/Name eq 'productType' and att/OData.CSC.StringAttribute/Value eq '{product_type}') and OData.CSC.Intersects(area=geography'SRID=4326;{aoi}') and ContentDate/Start gt {search_period_start} and ContentDate/Start lt {search_period_end}\"\n"
   ],
   "metadata": {
    "collapsed": false,
    "ExecuteTime": {
     "end_time": "2024-02-14T17:09:01.679173597Z",
     "start_time": "2024-02-14T17:09:01.674205615Z"
    }
   },
   "id": "d73bcd9ce1b07737",
   "execution_count": 35
  },
  {
   "cell_type": "code",
   "outputs": [],
   "source": [
    "response = requests.get(search_query).json()\n",
    "result = pd.DataFrame.from_dict(response[\"value\"])"
   ],
   "metadata": {
    "collapsed": false,
    "ExecuteTime": {
     "end_time": "2024-02-14T17:09:31.279892239Z",
     "start_time": "2024-02-14T17:09:02.753313250Z"
    }
   },
   "id": "fcd0c59eabc88692",
   "execution_count": 36
  },
  {
   "cell_type": "code",
   "outputs": [
    {
     "data": {
      "text/plain": "     @odata.mediaContentType                                    Id  \\\n0   application/octet-stream  ce4191c2-3d88-5fec-ad68-d1a74f1bcdba   \n1   application/octet-stream  7d4abcdf-8484-49f7-aba4-f9296ec61b67   \n2   application/octet-stream  7c9bb83c-346f-5d6a-b2b9-7f371c0943a2   \n3   application/octet-stream  dfc8bf6f-611b-51c9-bfb1-d69632ed4a18   \n4   application/octet-stream  c48f5e82-31e4-5f82-8831-4025948ac87c   \n5   application/octet-stream  fa9af11d-2af5-4b5e-930f-60a5daebedb9   \n6   application/octet-stream  019c92af-64a4-471a-9d71-b48446fef483   \n7   application/octet-stream  83ae740d-3830-44a6-abe3-7d790b6f3f87   \n8   application/octet-stream  4c49ba7e-811c-440e-8833-722acff33674   \n9   application/octet-stream  9d270b8e-3f68-4fae-91d2-6276f2b13ce6   \n10  application/octet-stream  6b0adfb1-3b7d-408e-9a2e-3661a16792ef   \n11  application/octet-stream  acd05743-4887-5544-9ccc-88738065e77a   \n12  application/octet-stream  a2e63037-b398-5d1e-a87a-7d28761caed9   \n13  application/octet-stream  21c82f66-ccb4-5d4d-a4d5-0eca607b4eb4   \n14  application/octet-stream  2d9fc57b-75dd-4d01-8678-568871a73613   \n15  application/octet-stream  79aa0e20-f939-40d1-8757-1fc67e0d814f   \n16  application/octet-stream  bf7b7d53-804b-56b2-8eb4-2ba0cb6bb32b   \n17  application/octet-stream  21226376-0a62-571a-b00d-861ba81bdbea   \n18  application/octet-stream  782ac176-d10f-5b08-9654-0b4691020d56   \n19  application/octet-stream  79d3f7f1-3cbf-5f17-a1cb-fab198cebbfc   \n\n                                                 Name  \\\n0   S2B_MSIL2A_20230206T011539_N0509_R002_T42CWS_2...   \n1   S2B_MSIL2A_20230223T024559_N0509_R103_T43CDM_2...   \n2   S2B_MSIL2A_20230203T010529_N0509_R102_T43CDM_2...   \n3   S2B_MSIL2A_20230212T013539_N0509_R088_T43CDM_2...   \n4   S2B_MSIL2A_20230213T010529_N0509_R102_T43CDM_2...   \n5   S2B_MSIL2A_20230309T022559_N0509_R017_T43CDM_2...   \n6   S2B_MSIL2A_20230226T011539_N0509_R002_T43CDM_2...   \n7   S2B_MSIL2A_20230226T011539_N0509_R002_T42CWS_2...   \n8   S2B_MSIL2A_20230223T024559_N0509_R103_T42CWS_2...   \n9   S2B_MSIL2A_20230224T021559_N0509_R117_T43CDM_2...   \n10  S2B_MSIL2A_20230224T021559_N0509_R117_T42CWS_2...   \n11  S2B_MSIL2A_20230206T011539_N0509_R002_T43CDM_2...   \n12  S2B_MSIL2A_20230203T010529_N0509_R102_T42CWS_2...   \n13  S2B_MSIL2A_20230217T022549_N0509_R017_T42CWS_2...   \n14  S2B_MSIL2A_20230219T012539_N0509_R045_T42CWS_2...   \n15  S2B_MSIL2A_20230303T020549_N0509_R074_T43CDM_2...   \n16  S2B_MSIL2A_20230212T013539_N0509_R088_T42CWS_2...   \n17  S2B_MSIL2A_20230211T020549_N0509_R074_T42CWS_2...   \n18  S2B_MSIL2A_20230210T023549_N0509_R060_T43CDM_2...   \n19  S2B_MSIL2A_20230217T022549_N0509_R017_T43CDM_2...   \n\n                 ContentType  ContentLength                OriginDate  \\\n0   application/octet-stream      843454406  2023-02-06T05:51:08.002Z   \n1   application/octet-stream      190687021  2023-02-23T07:21:26.624Z   \n2   application/octet-stream      353428166  2023-02-03T05:05:08.290Z   \n3   application/octet-stream      887052245  2023-02-12T08:01:53.948Z   \n4   application/octet-stream      794489381  2023-02-13T05:05:17.148Z   \n5   application/octet-stream      878648459  2023-03-09T08:31:01.474Z   \n6   application/octet-stream      834951780  2023-02-26T05:55:16.565Z   \n7   application/octet-stream      831723317  2023-02-26T05:55:16.829Z   \n8   application/octet-stream      305733787  2023-02-23T07:21:27.845Z   \n9   application/octet-stream      783619352  2023-02-24T06:21:21.533Z   \n10  application/octet-stream      785458668  2023-02-24T06:20:18.375Z   \n11  application/octet-stream      859324392  2023-02-06T05:51:07.835Z   \n12  application/octet-stream      462831435  2023-02-03T05:02:28.284Z   \n13  application/octet-stream      801277931  2023-02-17T06:55:07.623Z   \n14  application/octet-stream      917903940  2023-02-19T05:39:32.277Z   \n15  application/octet-stream      927855135  2023-03-03T09:29:06.165Z   \n16  application/octet-stream      892587509  2023-02-12T08:02:24.521Z   \n17  application/octet-stream      901218075  2023-02-11T12:13:31.432Z   \n18  application/octet-stream      554531293  2023-02-10T07:52:17.240Z   \n19  application/octet-stream      753866165  2023-02-17T06:56:14.947Z   \n\n             PublicationDate          ModificationDate  Online EvictionDate  \\\n0   2023-02-06T07:04:26.315Z  2023-11-25T16:55:02.200Z    True                \n1   2023-02-23T17:09:54.544Z  2023-11-29T08:30:57.653Z    True                \n2   2023-02-03T06:24:31.415Z  2023-11-25T20:52:03.773Z    True                \n3   2023-02-12T09:09:27.939Z  2023-11-25T08:48:36.990Z    True                \n4   2023-02-13T06:08:06.855Z  2023-11-29T11:36:22.795Z    True                \n5   2023-03-09T08:37:32.720Z  2023-11-26T04:54:00.854Z    True                \n6   2023-02-28T17:42:35.866Z  2023-11-27T21:00:37.723Z    True                \n7   2023-02-28T17:40:00.067Z  2023-11-27T21:00:57.406Z    True                \n8   2023-02-25T13:59:15.228Z  2023-11-28T03:37:29.114Z    True                \n9   2023-02-24T15:50:14.888Z  2023-11-28T05:02:01.272Z    True                \n10  2023-02-24T14:29:33.910Z  2023-11-28T05:13:17.214Z    True                \n11  2023-02-06T07:04:27.058Z  2023-11-25T16:55:02.336Z    True                \n12  2023-02-03T06:05:26.323Z  2023-11-25T20:53:09.877Z    True                \n13  2023-02-17T07:56:46.193Z  2023-11-25T02:16:12.374Z    True                \n14  2023-02-20T18:16:37.867Z  2023-11-23T05:11:28.295Z    True                \n15  2023-03-03T09:36:11.110Z  2023-11-26T06:29:30.008Z    True                \n16  2023-02-12T09:19:30.224Z  2023-11-25T08:47:57.487Z    True                \n17  2023-02-11T13:14:39.917Z  2023-11-25T09:54:26.235Z    True                \n18  2023-02-10T18:32:59.876Z  2023-11-25T11:08:58.749Z    True                \n19  2023-02-17T08:03:22.316Z  2023-11-25T02:15:47.657Z    True                \n\n                                               S3Path  \\\n0   /eodata/Sentinel-2/MSI/L2A/2023/02/06/S2B_MSIL...   \n1   /eodata/Sentinel-2/MSI/L2A/2023/02/23/S2B_MSIL...   \n2   /eodata/Sentinel-2/MSI/L2A/2023/02/03/S2B_MSIL...   \n3   /eodata/Sentinel-2/MSI/L2A/2023/02/12/S2B_MSIL...   \n4   /eodata/Sentinel-2/MSI/L2A/2023/02/13/S2B_MSIL...   \n5   /eodata/Sentinel-2/MSI/L2A/2023/03/09/S2B_MSIL...   \n6   /eodata/Sentinel-2/MSI/L2A/2023/02/26/S2B_MSIL...   \n7   /eodata/Sentinel-2/MSI/L2A/2023/02/26/S2B_MSIL...   \n8   /eodata/Sentinel-2/MSI/L2A/2023/02/23/S2B_MSIL...   \n9   /eodata/Sentinel-2/MSI/L2A/2023/02/24/S2B_MSIL...   \n10  /eodata/Sentinel-2/MSI/L2A/2023/02/24/S2B_MSIL...   \n11  /eodata/Sentinel-2/MSI/L2A/2023/02/06/S2B_MSIL...   \n12  /eodata/Sentinel-2/MSI/L2A/2023/02/03/S2B_MSIL...   \n13  /eodata/Sentinel-2/MSI/L2A/2023/02/17/S2B_MSIL...   \n14  /eodata/Sentinel-2/MSI/L2A/2023/02/19/S2B_MSIL...   \n15  /eodata/Sentinel-2/MSI/L2A/2023/03/03/S2B_MSIL...   \n16  /eodata/Sentinel-2/MSI/L2A/2023/02/12/S2B_MSIL...   \n17  /eodata/Sentinel-2/MSI/L2A/2023/02/11/S2B_MSIL...   \n18  /eodata/Sentinel-2/MSI/L2A/2023/02/10/S2B_MSIL...   \n19  /eodata/Sentinel-2/MSI/L2A/2023/02/17/S2B_MSIL...   \n\n                                             Checksum  \\\n0   [{'Value': 'ee96ab994c259a0773264c490f8285ff',...   \n1   [{'Value': 'bafb5c5ebd5709f82310f1a14d058412',...   \n2   [{'Value': '64f4940a8049a887eac168461b003b78',...   \n3   [{'Value': '287751e12e6f93dbfc3299f314a3bad5',...   \n4   [{'Value': '8ef23f06c7caf36be3862e9dad6a2423',...   \n5   [{'Value': '7d1c828e2cfb9c171b7b78deaff5ce6b',...   \n6   [{'Value': '4293b58a2a781e009fcb4ef195b9b703',...   \n7   [{'Value': '2e3fdb4cfbbd50edd8b28551b41cfee4',...   \n8   [{'Value': '3f8a9340461f0e5eab276468cbe53b0c',...   \n9   [{'Value': '563b5ec0f78b192e2325a2890a9cb65d',...   \n10  [{'Value': 'eeec4036af367c4970b60403ef1b99f9',...   \n11  [{'Value': '6c6184d1814a7e611d846dda5e7850ae',...   \n12  [{'Value': '4158ebbb93060be57288ebf3d4cef362',...   \n13  [{'Value': '4a50a0928a9cdabe3c8d2753af30f41d',...   \n14  [{'Value': 'eaae1023ffc990fd633e1c2c943fe4ff',...   \n15  [{'Value': 'bd856294cdc37d7cc6ab82062a4c4be8',...   \n16  [{'Value': '234095d9609db1e36f2a7cd9bf90bd16',...   \n17  [{'Value': '9c939303b11e8ee9378c9efb71038f7c',...   \n18  [{'Value': '11c7c96c1835e534b5294214557274e4',...   \n19  [{'Value': 'f5ac7568f50e70912f7ef2a769e15678',...   \n\n                                          ContentDate  \\\n0   {'Start': '2023-02-06T01:15:39.024Z', 'End': '...   \n1   {'Start': '2023-02-23T02:45:59.025Z', 'End': '...   \n2   {'Start': '2023-02-03T01:05:29.024Z', 'End': '...   \n3   {'Start': '2023-02-12T01:35:39.024Z', 'End': '...   \n4   {'Start': '2023-02-13T01:05:29.024Z', 'End': '...   \n5   {'Start': '2023-03-09T02:25:59.025Z', 'End': '...   \n6   {'Start': '2023-02-26T01:15:39.025Z', 'End': '...   \n7   {'Start': '2023-02-26T01:15:39.025Z', 'End': '...   \n8   {'Start': '2023-02-23T02:45:59.025Z', 'End': '...   \n9   {'Start': '2023-02-24T02:15:59.025Z', 'End': '...   \n10  {'Start': '2023-02-24T02:15:59.025Z', 'End': '...   \n11  {'Start': '2023-02-06T01:15:39.024Z', 'End': '...   \n12  {'Start': '2023-02-03T01:05:29.024Z', 'End': '...   \n13  {'Start': '2023-02-17T02:25:49.024Z', 'End': '...   \n14  {'Start': '2023-02-19T01:25:39.024Z', 'End': '...   \n15  {'Start': '2023-03-03T02:05:49.025Z', 'End': '...   \n16  {'Start': '2023-02-12T01:35:39.024Z', 'End': '...   \n17  {'Start': '2023-02-11T02:05:49.024Z', 'End': '...   \n18  {'Start': '2023-02-10T02:35:49.024Z', 'End': '...   \n19  {'Start': '2023-02-17T02:25:49.024Z', 'End': '...   \n\n                                            Footprint  \\\n0   geography'SRID=4326;POLYGON ((68.9990258716088...   \n1   geography'SRID=4326;POLYGON ((73.4690646994192...   \n2   geography'SRID=4326;POLYGON ((70.0734106306979...   \n3   geography'SRID=4326;POLYGON ((70.1984771094231...   \n4   geography'SRID=4326;POLYGON ((70.072000436166 ...   \n5   geography'SRID=4326;POLYGON ((75.4957835540163...   \n6   geography'SRID=4326;POLYGON ((70.166009701876 ...   \n7   geography'SRID=4326;POLYGON ((68.9990265137867...   \n8   geography'SRID=4326;POLYGON ((73.5902456767641...   \n9   geography'SRID=4326;POLYGON ((75.515173690945 ...   \n10  geography'SRID=4326;POLYGON ((68.9990378651542...   \n11  geography'SRID=4326;POLYGON ((70.162804293588 ...   \n12  geography'SRID=4326;POLYGON ((68.999009668207 ...   \n13  geography'SRID=4326;POLYGON ((74.6580847714423...   \n14  geography'SRID=4326;POLYGON ((68.9990378651542...   \n15  geography'SRID=4326;POLYGON ((70.1984771094231...   \n16  geography'SRID=4326;POLYGON ((68.9990378651542...   \n17  geography'SRID=4326;POLYGON ((68.9990378651542...   \n18  geography'SRID=4326;POLYGON ((75.4742257836353...   \n19  geography'SRID=4326;POLYGON ((75.4956107997379...   \n\n                                         GeoFootprint  \n0   {'type': 'Polygon', 'coordinates': [[[68.99902...  \n1   {'type': 'Polygon', 'coordinates': [[[73.46906...  \n2   {'type': 'Polygon', 'coordinates': [[[70.07341...  \n3   {'type': 'Polygon', 'coordinates': [[[70.19847...  \n4   {'type': 'Polygon', 'coordinates': [[[70.07200...  \n5   {'type': 'Polygon', 'coordinates': [[[75.49578...  \n6   {'type': 'Polygon', 'coordinates': [[[70.16600...  \n7   {'type': 'Polygon', 'coordinates': [[[68.99902...  \n8   {'type': 'Polygon', 'coordinates': [[[73.59024...  \n9   {'type': 'Polygon', 'coordinates': [[[75.51517...  \n10  {'type': 'Polygon', 'coordinates': [[[68.99903...  \n11  {'type': 'Polygon', 'coordinates': [[[70.16280...  \n12  {'type': 'Polygon', 'coordinates': [[[68.99900...  \n13  {'type': 'Polygon', 'coordinates': [[[74.65808...  \n14  {'type': 'Polygon', 'coordinates': [[[68.99903...  \n15  {'type': 'Polygon', 'coordinates': [[[70.19847...  \n16  {'type': 'Polygon', 'coordinates': [[[68.99903...  \n17  {'type': 'Polygon', 'coordinates': [[[68.99903...  \n18  {'type': 'Polygon', 'coordinates': [[[75.47422...  \n19  {'type': 'Polygon', 'coordinates': [[[75.49561...  ",
      "text/html": "<div>\n<style scoped>\n    .dataframe tbody tr th:only-of-type {\n        vertical-align: middle;\n    }\n\n    .dataframe tbody tr th {\n        vertical-align: top;\n    }\n\n    .dataframe thead th {\n        text-align: right;\n    }\n</style>\n<table border=\"1\" class=\"dataframe\">\n  <thead>\n    <tr style=\"text-align: right;\">\n      <th></th>\n      <th>@odata.mediaContentType</th>\n      <th>Id</th>\n      <th>Name</th>\n      <th>ContentType</th>\n      <th>ContentLength</th>\n      <th>OriginDate</th>\n      <th>PublicationDate</th>\n      <th>ModificationDate</th>\n      <th>Online</th>\n      <th>EvictionDate</th>\n      <th>S3Path</th>\n      <th>Checksum</th>\n      <th>ContentDate</th>\n      <th>Footprint</th>\n      <th>GeoFootprint</th>\n    </tr>\n  </thead>\n  <tbody>\n    <tr>\n      <th>0</th>\n      <td>application/octet-stream</td>\n      <td>ce4191c2-3d88-5fec-ad68-d1a74f1bcdba</td>\n      <td>S2B_MSIL2A_20230206T011539_N0509_R002_T42CWS_2...</td>\n      <td>application/octet-stream</td>\n      <td>843454406</td>\n      <td>2023-02-06T05:51:08.002Z</td>\n      <td>2023-02-06T07:04:26.315Z</td>\n      <td>2023-11-25T16:55:02.200Z</td>\n      <td>True</td>\n      <td></td>\n      <td>/eodata/Sentinel-2/MSI/L2A/2023/02/06/S2B_MSIL...</td>\n      <td>[{'Value': 'ee96ab994c259a0773264c490f8285ff',...</td>\n      <td>{'Start': '2023-02-06T01:15:39.024Z', 'End': '...</td>\n      <td>geography'SRID=4326;POLYGON ((68.9990258716088...</td>\n      <td>{'type': 'Polygon', 'coordinates': [[[68.99902...</td>\n    </tr>\n    <tr>\n      <th>1</th>\n      <td>application/octet-stream</td>\n      <td>7d4abcdf-8484-49f7-aba4-f9296ec61b67</td>\n      <td>S2B_MSIL2A_20230223T024559_N0509_R103_T43CDM_2...</td>\n      <td>application/octet-stream</td>\n      <td>190687021</td>\n      <td>2023-02-23T07:21:26.624Z</td>\n      <td>2023-02-23T17:09:54.544Z</td>\n      <td>2023-11-29T08:30:57.653Z</td>\n      <td>True</td>\n      <td></td>\n      <td>/eodata/Sentinel-2/MSI/L2A/2023/02/23/S2B_MSIL...</td>\n      <td>[{'Value': 'bafb5c5ebd5709f82310f1a14d058412',...</td>\n      <td>{'Start': '2023-02-23T02:45:59.025Z', 'End': '...</td>\n      <td>geography'SRID=4326;POLYGON ((73.4690646994192...</td>\n      <td>{'type': 'Polygon', 'coordinates': [[[73.46906...</td>\n    </tr>\n    <tr>\n      <th>2</th>\n      <td>application/octet-stream</td>\n      <td>7c9bb83c-346f-5d6a-b2b9-7f371c0943a2</td>\n      <td>S2B_MSIL2A_20230203T010529_N0509_R102_T43CDM_2...</td>\n      <td>application/octet-stream</td>\n      <td>353428166</td>\n      <td>2023-02-03T05:05:08.290Z</td>\n      <td>2023-02-03T06:24:31.415Z</td>\n      <td>2023-11-25T20:52:03.773Z</td>\n      <td>True</td>\n      <td></td>\n      <td>/eodata/Sentinel-2/MSI/L2A/2023/02/03/S2B_MSIL...</td>\n      <td>[{'Value': '64f4940a8049a887eac168461b003b78',...</td>\n      <td>{'Start': '2023-02-03T01:05:29.024Z', 'End': '...</td>\n      <td>geography'SRID=4326;POLYGON ((70.0734106306979...</td>\n      <td>{'type': 'Polygon', 'coordinates': [[[70.07341...</td>\n    </tr>\n    <tr>\n      <th>3</th>\n      <td>application/octet-stream</td>\n      <td>dfc8bf6f-611b-51c9-bfb1-d69632ed4a18</td>\n      <td>S2B_MSIL2A_20230212T013539_N0509_R088_T43CDM_2...</td>\n      <td>application/octet-stream</td>\n      <td>887052245</td>\n      <td>2023-02-12T08:01:53.948Z</td>\n      <td>2023-02-12T09:09:27.939Z</td>\n      <td>2023-11-25T08:48:36.990Z</td>\n      <td>True</td>\n      <td></td>\n      <td>/eodata/Sentinel-2/MSI/L2A/2023/02/12/S2B_MSIL...</td>\n      <td>[{'Value': '287751e12e6f93dbfc3299f314a3bad5',...</td>\n      <td>{'Start': '2023-02-12T01:35:39.024Z', 'End': '...</td>\n      <td>geography'SRID=4326;POLYGON ((70.1984771094231...</td>\n      <td>{'type': 'Polygon', 'coordinates': [[[70.19847...</td>\n    </tr>\n    <tr>\n      <th>4</th>\n      <td>application/octet-stream</td>\n      <td>c48f5e82-31e4-5f82-8831-4025948ac87c</td>\n      <td>S2B_MSIL2A_20230213T010529_N0509_R102_T43CDM_2...</td>\n      <td>application/octet-stream</td>\n      <td>794489381</td>\n      <td>2023-02-13T05:05:17.148Z</td>\n      <td>2023-02-13T06:08:06.855Z</td>\n      <td>2023-11-29T11:36:22.795Z</td>\n      <td>True</td>\n      <td></td>\n      <td>/eodata/Sentinel-2/MSI/L2A/2023/02/13/S2B_MSIL...</td>\n      <td>[{'Value': '8ef23f06c7caf36be3862e9dad6a2423',...</td>\n      <td>{'Start': '2023-02-13T01:05:29.024Z', 'End': '...</td>\n      <td>geography'SRID=4326;POLYGON ((70.072000436166 ...</td>\n      <td>{'type': 'Polygon', 'coordinates': [[[70.07200...</td>\n    </tr>\n    <tr>\n      <th>5</th>\n      <td>application/octet-stream</td>\n      <td>fa9af11d-2af5-4b5e-930f-60a5daebedb9</td>\n      <td>S2B_MSIL2A_20230309T022559_N0509_R017_T43CDM_2...</td>\n      <td>application/octet-stream</td>\n      <td>878648459</td>\n      <td>2023-03-09T08:31:01.474Z</td>\n      <td>2023-03-09T08:37:32.720Z</td>\n      <td>2023-11-26T04:54:00.854Z</td>\n      <td>True</td>\n      <td></td>\n      <td>/eodata/Sentinel-2/MSI/L2A/2023/03/09/S2B_MSIL...</td>\n      <td>[{'Value': '7d1c828e2cfb9c171b7b78deaff5ce6b',...</td>\n      <td>{'Start': '2023-03-09T02:25:59.025Z', 'End': '...</td>\n      <td>geography'SRID=4326;POLYGON ((75.4957835540163...</td>\n      <td>{'type': 'Polygon', 'coordinates': [[[75.49578...</td>\n    </tr>\n    <tr>\n      <th>6</th>\n      <td>application/octet-stream</td>\n      <td>019c92af-64a4-471a-9d71-b48446fef483</td>\n      <td>S2B_MSIL2A_20230226T011539_N0509_R002_T43CDM_2...</td>\n      <td>application/octet-stream</td>\n      <td>834951780</td>\n      <td>2023-02-26T05:55:16.565Z</td>\n      <td>2023-02-28T17:42:35.866Z</td>\n      <td>2023-11-27T21:00:37.723Z</td>\n      <td>True</td>\n      <td></td>\n      <td>/eodata/Sentinel-2/MSI/L2A/2023/02/26/S2B_MSIL...</td>\n      <td>[{'Value': '4293b58a2a781e009fcb4ef195b9b703',...</td>\n      <td>{'Start': '2023-02-26T01:15:39.025Z', 'End': '...</td>\n      <td>geography'SRID=4326;POLYGON ((70.166009701876 ...</td>\n      <td>{'type': 'Polygon', 'coordinates': [[[70.16600...</td>\n    </tr>\n    <tr>\n      <th>7</th>\n      <td>application/octet-stream</td>\n      <td>83ae740d-3830-44a6-abe3-7d790b6f3f87</td>\n      <td>S2B_MSIL2A_20230226T011539_N0509_R002_T42CWS_2...</td>\n      <td>application/octet-stream</td>\n      <td>831723317</td>\n      <td>2023-02-26T05:55:16.829Z</td>\n      <td>2023-02-28T17:40:00.067Z</td>\n      <td>2023-11-27T21:00:57.406Z</td>\n      <td>True</td>\n      <td></td>\n      <td>/eodata/Sentinel-2/MSI/L2A/2023/02/26/S2B_MSIL...</td>\n      <td>[{'Value': '2e3fdb4cfbbd50edd8b28551b41cfee4',...</td>\n      <td>{'Start': '2023-02-26T01:15:39.025Z', 'End': '...</td>\n      <td>geography'SRID=4326;POLYGON ((68.9990265137867...</td>\n      <td>{'type': 'Polygon', 'coordinates': [[[68.99902...</td>\n    </tr>\n    <tr>\n      <th>8</th>\n      <td>application/octet-stream</td>\n      <td>4c49ba7e-811c-440e-8833-722acff33674</td>\n      <td>S2B_MSIL2A_20230223T024559_N0509_R103_T42CWS_2...</td>\n      <td>application/octet-stream</td>\n      <td>305733787</td>\n      <td>2023-02-23T07:21:27.845Z</td>\n      <td>2023-02-25T13:59:15.228Z</td>\n      <td>2023-11-28T03:37:29.114Z</td>\n      <td>True</td>\n      <td></td>\n      <td>/eodata/Sentinel-2/MSI/L2A/2023/02/23/S2B_MSIL...</td>\n      <td>[{'Value': '3f8a9340461f0e5eab276468cbe53b0c',...</td>\n      <td>{'Start': '2023-02-23T02:45:59.025Z', 'End': '...</td>\n      <td>geography'SRID=4326;POLYGON ((73.5902456767641...</td>\n      <td>{'type': 'Polygon', 'coordinates': [[[73.59024...</td>\n    </tr>\n    <tr>\n      <th>9</th>\n      <td>application/octet-stream</td>\n      <td>9d270b8e-3f68-4fae-91d2-6276f2b13ce6</td>\n      <td>S2B_MSIL2A_20230224T021559_N0509_R117_T43CDM_2...</td>\n      <td>application/octet-stream</td>\n      <td>783619352</td>\n      <td>2023-02-24T06:21:21.533Z</td>\n      <td>2023-02-24T15:50:14.888Z</td>\n      <td>2023-11-28T05:02:01.272Z</td>\n      <td>True</td>\n      <td></td>\n      <td>/eodata/Sentinel-2/MSI/L2A/2023/02/24/S2B_MSIL...</td>\n      <td>[{'Value': '563b5ec0f78b192e2325a2890a9cb65d',...</td>\n      <td>{'Start': '2023-02-24T02:15:59.025Z', 'End': '...</td>\n      <td>geography'SRID=4326;POLYGON ((75.515173690945 ...</td>\n      <td>{'type': 'Polygon', 'coordinates': [[[75.51517...</td>\n    </tr>\n    <tr>\n      <th>10</th>\n      <td>application/octet-stream</td>\n      <td>6b0adfb1-3b7d-408e-9a2e-3661a16792ef</td>\n      <td>S2B_MSIL2A_20230224T021559_N0509_R117_T42CWS_2...</td>\n      <td>application/octet-stream</td>\n      <td>785458668</td>\n      <td>2023-02-24T06:20:18.375Z</td>\n      <td>2023-02-24T14:29:33.910Z</td>\n      <td>2023-11-28T05:13:17.214Z</td>\n      <td>True</td>\n      <td></td>\n      <td>/eodata/Sentinel-2/MSI/L2A/2023/02/24/S2B_MSIL...</td>\n      <td>[{'Value': 'eeec4036af367c4970b60403ef1b99f9',...</td>\n      <td>{'Start': '2023-02-24T02:15:59.025Z', 'End': '...</td>\n      <td>geography'SRID=4326;POLYGON ((68.9990378651542...</td>\n      <td>{'type': 'Polygon', 'coordinates': [[[68.99903...</td>\n    </tr>\n    <tr>\n      <th>11</th>\n      <td>application/octet-stream</td>\n      <td>acd05743-4887-5544-9ccc-88738065e77a</td>\n      <td>S2B_MSIL2A_20230206T011539_N0509_R002_T43CDM_2...</td>\n      <td>application/octet-stream</td>\n      <td>859324392</td>\n      <td>2023-02-06T05:51:07.835Z</td>\n      <td>2023-02-06T07:04:27.058Z</td>\n      <td>2023-11-25T16:55:02.336Z</td>\n      <td>True</td>\n      <td></td>\n      <td>/eodata/Sentinel-2/MSI/L2A/2023/02/06/S2B_MSIL...</td>\n      <td>[{'Value': '6c6184d1814a7e611d846dda5e7850ae',...</td>\n      <td>{'Start': '2023-02-06T01:15:39.024Z', 'End': '...</td>\n      <td>geography'SRID=4326;POLYGON ((70.162804293588 ...</td>\n      <td>{'type': 'Polygon', 'coordinates': [[[70.16280...</td>\n    </tr>\n    <tr>\n      <th>12</th>\n      <td>application/octet-stream</td>\n      <td>a2e63037-b398-5d1e-a87a-7d28761caed9</td>\n      <td>S2B_MSIL2A_20230203T010529_N0509_R102_T42CWS_2...</td>\n      <td>application/octet-stream</td>\n      <td>462831435</td>\n      <td>2023-02-03T05:02:28.284Z</td>\n      <td>2023-02-03T06:05:26.323Z</td>\n      <td>2023-11-25T20:53:09.877Z</td>\n      <td>True</td>\n      <td></td>\n      <td>/eodata/Sentinel-2/MSI/L2A/2023/02/03/S2B_MSIL...</td>\n      <td>[{'Value': '4158ebbb93060be57288ebf3d4cef362',...</td>\n      <td>{'Start': '2023-02-03T01:05:29.024Z', 'End': '...</td>\n      <td>geography'SRID=4326;POLYGON ((68.999009668207 ...</td>\n      <td>{'type': 'Polygon', 'coordinates': [[[68.99900...</td>\n    </tr>\n    <tr>\n      <th>13</th>\n      <td>application/octet-stream</td>\n      <td>21c82f66-ccb4-5d4d-a4d5-0eca607b4eb4</td>\n      <td>S2B_MSIL2A_20230217T022549_N0509_R017_T42CWS_2...</td>\n      <td>application/octet-stream</td>\n      <td>801277931</td>\n      <td>2023-02-17T06:55:07.623Z</td>\n      <td>2023-02-17T07:56:46.193Z</td>\n      <td>2023-11-25T02:16:12.374Z</td>\n      <td>True</td>\n      <td></td>\n      <td>/eodata/Sentinel-2/MSI/L2A/2023/02/17/S2B_MSIL...</td>\n      <td>[{'Value': '4a50a0928a9cdabe3c8d2753af30f41d',...</td>\n      <td>{'Start': '2023-02-17T02:25:49.024Z', 'End': '...</td>\n      <td>geography'SRID=4326;POLYGON ((74.6580847714423...</td>\n      <td>{'type': 'Polygon', 'coordinates': [[[74.65808...</td>\n    </tr>\n    <tr>\n      <th>14</th>\n      <td>application/octet-stream</td>\n      <td>2d9fc57b-75dd-4d01-8678-568871a73613</td>\n      <td>S2B_MSIL2A_20230219T012539_N0509_R045_T42CWS_2...</td>\n      <td>application/octet-stream</td>\n      <td>917903940</td>\n      <td>2023-02-19T05:39:32.277Z</td>\n      <td>2023-02-20T18:16:37.867Z</td>\n      <td>2023-11-23T05:11:28.295Z</td>\n      <td>True</td>\n      <td></td>\n      <td>/eodata/Sentinel-2/MSI/L2A/2023/02/19/S2B_MSIL...</td>\n      <td>[{'Value': 'eaae1023ffc990fd633e1c2c943fe4ff',...</td>\n      <td>{'Start': '2023-02-19T01:25:39.024Z', 'End': '...</td>\n      <td>geography'SRID=4326;POLYGON ((68.9990378651542...</td>\n      <td>{'type': 'Polygon', 'coordinates': [[[68.99903...</td>\n    </tr>\n    <tr>\n      <th>15</th>\n      <td>application/octet-stream</td>\n      <td>79aa0e20-f939-40d1-8757-1fc67e0d814f</td>\n      <td>S2B_MSIL2A_20230303T020549_N0509_R074_T43CDM_2...</td>\n      <td>application/octet-stream</td>\n      <td>927855135</td>\n      <td>2023-03-03T09:29:06.165Z</td>\n      <td>2023-03-03T09:36:11.110Z</td>\n      <td>2023-11-26T06:29:30.008Z</td>\n      <td>True</td>\n      <td></td>\n      <td>/eodata/Sentinel-2/MSI/L2A/2023/03/03/S2B_MSIL...</td>\n      <td>[{'Value': 'bd856294cdc37d7cc6ab82062a4c4be8',...</td>\n      <td>{'Start': '2023-03-03T02:05:49.025Z', 'End': '...</td>\n      <td>geography'SRID=4326;POLYGON ((70.1984771094231...</td>\n      <td>{'type': 'Polygon', 'coordinates': [[[70.19847...</td>\n    </tr>\n    <tr>\n      <th>16</th>\n      <td>application/octet-stream</td>\n      <td>bf7b7d53-804b-56b2-8eb4-2ba0cb6bb32b</td>\n      <td>S2B_MSIL2A_20230212T013539_N0509_R088_T42CWS_2...</td>\n      <td>application/octet-stream</td>\n      <td>892587509</td>\n      <td>2023-02-12T08:02:24.521Z</td>\n      <td>2023-02-12T09:19:30.224Z</td>\n      <td>2023-11-25T08:47:57.487Z</td>\n      <td>True</td>\n      <td></td>\n      <td>/eodata/Sentinel-2/MSI/L2A/2023/02/12/S2B_MSIL...</td>\n      <td>[{'Value': '234095d9609db1e36f2a7cd9bf90bd16',...</td>\n      <td>{'Start': '2023-02-12T01:35:39.024Z', 'End': '...</td>\n      <td>geography'SRID=4326;POLYGON ((68.9990378651542...</td>\n      <td>{'type': 'Polygon', 'coordinates': [[[68.99903...</td>\n    </tr>\n    <tr>\n      <th>17</th>\n      <td>application/octet-stream</td>\n      <td>21226376-0a62-571a-b00d-861ba81bdbea</td>\n      <td>S2B_MSIL2A_20230211T020549_N0509_R074_T42CWS_2...</td>\n      <td>application/octet-stream</td>\n      <td>901218075</td>\n      <td>2023-02-11T12:13:31.432Z</td>\n      <td>2023-02-11T13:14:39.917Z</td>\n      <td>2023-11-25T09:54:26.235Z</td>\n      <td>True</td>\n      <td></td>\n      <td>/eodata/Sentinel-2/MSI/L2A/2023/02/11/S2B_MSIL...</td>\n      <td>[{'Value': '9c939303b11e8ee9378c9efb71038f7c',...</td>\n      <td>{'Start': '2023-02-11T02:05:49.024Z', 'End': '...</td>\n      <td>geography'SRID=4326;POLYGON ((68.9990378651542...</td>\n      <td>{'type': 'Polygon', 'coordinates': [[[68.99903...</td>\n    </tr>\n    <tr>\n      <th>18</th>\n      <td>application/octet-stream</td>\n      <td>782ac176-d10f-5b08-9654-0b4691020d56</td>\n      <td>S2B_MSIL2A_20230210T023549_N0509_R060_T43CDM_2...</td>\n      <td>application/octet-stream</td>\n      <td>554531293</td>\n      <td>2023-02-10T07:52:17.240Z</td>\n      <td>2023-02-10T18:32:59.876Z</td>\n      <td>2023-11-25T11:08:58.749Z</td>\n      <td>True</td>\n      <td></td>\n      <td>/eodata/Sentinel-2/MSI/L2A/2023/02/10/S2B_MSIL...</td>\n      <td>[{'Value': '11c7c96c1835e534b5294214557274e4',...</td>\n      <td>{'Start': '2023-02-10T02:35:49.024Z', 'End': '...</td>\n      <td>geography'SRID=4326;POLYGON ((75.4742257836353...</td>\n      <td>{'type': 'Polygon', 'coordinates': [[[75.47422...</td>\n    </tr>\n    <tr>\n      <th>19</th>\n      <td>application/octet-stream</td>\n      <td>79d3f7f1-3cbf-5f17-a1cb-fab198cebbfc</td>\n      <td>S2B_MSIL2A_20230217T022549_N0509_R017_T43CDM_2...</td>\n      <td>application/octet-stream</td>\n      <td>753866165</td>\n      <td>2023-02-17T06:56:14.947Z</td>\n      <td>2023-02-17T08:03:22.316Z</td>\n      <td>2023-11-25T02:15:47.657Z</td>\n      <td>True</td>\n      <td></td>\n      <td>/eodata/Sentinel-2/MSI/L2A/2023/02/17/S2B_MSIL...</td>\n      <td>[{'Value': 'f5ac7568f50e70912f7ef2a769e15678',...</td>\n      <td>{'Start': '2023-02-17T02:25:49.024Z', 'End': '...</td>\n      <td>geography'SRID=4326;POLYGON ((75.4956107997379...</td>\n      <td>{'type': 'Polygon', 'coordinates': [[[75.49561...</td>\n    </tr>\n  </tbody>\n</table>\n</div>"
     },
     "execution_count": 37,
     "metadata": {},
     "output_type": "execute_result"
    }
   ],
   "source": [
    "result\n",
    "# print first 3 results\n",
    "\n"
   ],
   "metadata": {
    "collapsed": false,
    "ExecuteTime": {
     "end_time": "2024-02-14T17:09:48.892461999Z",
     "start_time": "2024-02-14T17:09:48.842448512Z"
    }
   },
   "id": "b5b50f804fa10c3d",
   "execution_count": 37
  },
  {
   "cell_type": "code",
   "outputs": [
    {
     "data": {
      "text/plain": "'S2A_MSIL2A_20240102T095411_N0510_R079_T34UDC_20240102T124351.SAFE'"
     },
     "execution_count": 35,
     "metadata": {},
     "output_type": "execute_result"
    }
   ],
   "source": [
    "result.iloc[0]['Name']"
   ],
   "metadata": {
    "collapsed": false,
    "ExecuteTime": {
     "end_time": "2024-02-14T13:45:49.878494600Z",
     "start_time": "2024-02-14T13:45:49.861516100Z"
    }
   },
   "id": "22d09c0bb79057d3",
   "execution_count": 35
  },
  {
   "cell_type": "code",
   "outputs": [],
   "source": [
    "import glob"
   ],
   "metadata": {
    "collapsed": false,
    "ExecuteTime": {
     "end_time": "2024-02-14T13:50:53.939647227Z",
     "start_time": "2024-02-14T13:50:53.936759573Z"
    }
   },
   "id": "dfd38c9f9928ad62",
   "execution_count": 1
  },
  {
   "cell_type": "code",
   "outputs": [],
   "source": [],
   "metadata": {
    "collapsed": false
   },
   "id": "cb98555502b2a785",
   "execution_count": null
  },
  {
   "cell_type": "code",
   "outputs": [],
   "source": [
    "path = glob.glob('/home/pier/CDSE/Sentinel-2/MSI/L2A/2024/01/02/S2A_MSIL2A_20240102T095411_N0510_R079_T34UDC_20240102T124351.SAFE/GRANULE/*/IMG_DATA/R20m/*B07_20m.jp2')[0]"
   ],
   "metadata": {
    "collapsed": false,
    "ExecuteTime": {
     "end_time": "2024-02-14T13:54:26.121007080Z",
     "start_time": "2024-02-14T13:54:25.970443402Z"
    }
   },
   "id": "d8d8e1416b4470cd",
   "execution_count": 15
  },
  {
   "cell_type": "code",
   "outputs": [
    {
     "data": {
      "text/plain": "'/home/pier/CDSE/Sentinel-2/MSI/L2A/2024/01/02/S2A_MSIL2A_20240102T095411_N0510_R079_T34UDC_20240102T124351.SAFE/GRANULE/L2A_T34UDC_A044549_20240102T095406/IMG_DATA/R20m/T34UDC_20240102T095411_B07_20m.jp2'"
     },
     "execution_count": 16,
     "metadata": {},
     "output_type": "execute_result"
    }
   ],
   "source": [
    "path "
   ],
   "metadata": {
    "collapsed": false,
    "ExecuteTime": {
     "end_time": "2024-02-14T13:54:29.877725846Z",
     "start_time": "2024-02-14T13:54:29.872849978Z"
    }
   },
   "id": "6795032faf97cc2f",
   "execution_count": 16
  },
  {
   "cell_type": "code",
   "outputs": [
    {
     "data": {
      "text/plain": "<Response [401]>"
     },
     "execution_count": 25,
     "metadata": {},
     "output_type": "execute_result"
    }
   ],
   "source": [],
   "metadata": {
    "collapsed": false,
    "ExecuteTime": {
     "end_time": "2024-02-14T13:36:08.473393100Z",
     "start_time": "2024-02-14T13:36:08.460356500Z"
    }
   },
   "id": "b9f02f030c2456e5",
   "execution_count": 25
  },
  {
   "cell_type": "code",
   "outputs": [],
   "source": [],
   "metadata": {
    "collapsed": false
   },
   "id": "5fb271c2e7ea554"
  }
 ],
 "metadata": {
  "kernelspec": {
   "display_name": "Python 3",
   "language": "python",
   "name": "python3"
  },
  "language_info": {
   "codemirror_mode": {
    "name": "ipython",
    "version": 2
   },
   "file_extension": ".py",
   "mimetype": "text/x-python",
   "name": "python",
   "nbconvert_exporter": "python",
   "pygments_lexer": "ipython2",
   "version": "2.7.6"
  }
 },
 "nbformat": 4,
 "nbformat_minor": 5
}
