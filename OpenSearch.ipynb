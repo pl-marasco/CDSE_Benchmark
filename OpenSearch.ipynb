{
 "cells": [
  {
   "cell_type": "code",
   "execution_count": 28,
   "id": "4bd10cd866dcc5ba",
   "metadata": {
    "collapsed": false,
    "ExecuteTime": {
     "end_time": "2024-02-14T13:45:27.370935400Z",
     "start_time": "2024-02-14T13:45:27.363425700Z"
    }
   },
   "outputs": [],
   "source": [
    "import glob\n",
    "import json\n",
    "import requests"
   ]
  },
  {
   "cell_type": "code",
   "outputs": [],
   "source": [
    "def get_access_token(username: str, password: str, otp: int) -> str:\n",
    "    data = {\n",
    "        \"client_id\": \"cdse-public\",\n",
    "        \"username\": username,\n",
    "        \"password\": password,\n",
    "        \"totp\": otp,\n",
    "        \"grant_type\": \"password\",\n",
    "    }\n",
    "    try:\n",
    "        r = requests.post(\"https://identity.dataspace.copernicus.eu/auth/realms/CDSE/protocol/openid-connect/token\",\n",
    "                          data=data,\n",
    "                          )\n",
    "        r.raise_for_status()\n",
    "    except Exception as e:\n",
    "        raise Exception(\n",
    "            f\"Access token creation failed. Reponse from the server was: {r.json()}\"\n",
    "        )\n",
    "    return r.json()[\"access_token\"]"
   ],
   "metadata": {
    "collapsed": false,
    "ExecuteTime": {
     "end_time": "2024-02-14T13:45:28.675559200Z",
     "start_time": "2024-02-14T13:45:28.666052400Z"
    }
   },
   "id": "218f6bf30e445812",
   "execution_count": 29
  },
  {
   "cell_type": "code",
   "outputs": [
    {
     "ename": "Exception",
     "evalue": "Access token creation failed. Reponse from the server was: {'error': 'invalid_grant', 'error_description': 'Invalid user credentials'}",
     "output_type": "error",
     "traceback": [
      "\u001B[1;31m---------------------------------------------------------------------------\u001B[0m",
      "\u001B[1;31mHTTPError\u001B[0m                                 Traceback (most recent call last)",
      "Cell \u001B[1;32mIn[29], line 13\u001B[0m, in \u001B[0;36mget_access_token\u001B[1;34m(username, password, otp)\u001B[0m\n\u001B[0;32m     10\u001B[0m     r \u001B[38;5;241m=\u001B[39m requests\u001B[38;5;241m.\u001B[39mpost(\u001B[38;5;124m\"\u001B[39m\u001B[38;5;124mhttps://identity.dataspace.copernicus.eu/auth/realms/CDSE/protocol/openid-connect/token\u001B[39m\u001B[38;5;124m\"\u001B[39m,\n\u001B[0;32m     11\u001B[0m                       data\u001B[38;5;241m=\u001B[39mdata,\n\u001B[0;32m     12\u001B[0m                       )\n\u001B[1;32m---> 13\u001B[0m     \u001B[43mr\u001B[49m\u001B[38;5;241;43m.\u001B[39;49m\u001B[43mraise_for_status\u001B[49m\u001B[43m(\u001B[49m\u001B[43m)\u001B[49m\n\u001B[0;32m     14\u001B[0m \u001B[38;5;28;01mexcept\u001B[39;00m \u001B[38;5;167;01mException\u001B[39;00m \u001B[38;5;28;01mas\u001B[39;00m e:\n",
      "File \u001B[1;32m~\\miniconda3\\envs\\treundici\\Lib\\site-packages\\requests\\models.py:1021\u001B[0m, in \u001B[0;36mResponse.raise_for_status\u001B[1;34m(self)\u001B[0m\n\u001B[0;32m   1020\u001B[0m \u001B[38;5;28;01mif\u001B[39;00m http_error_msg:\n\u001B[1;32m-> 1021\u001B[0m     \u001B[38;5;28;01mraise\u001B[39;00m HTTPError(http_error_msg, response\u001B[38;5;241m=\u001B[39m\u001B[38;5;28mself\u001B[39m)\n",
      "\u001B[1;31mHTTPError\u001B[0m: 401 Client Error: Unauthorized for url: https://identity.dataspace.copernicus.eu/auth/realms/CDSE/protocol/openid-connect/token",
      "\nDuring handling of the above exception, another exception occurred:\n",
      "\u001B[1;31mException\u001B[0m                                 Traceback (most recent call last)",
      "Cell \u001B[1;32mIn[30], line 2\u001B[0m\n\u001B[0;32m      1\u001B[0m \u001B[38;5;66;03m# access_token = get_access_token(\"pl.marasco@gmail.com\", \"Firenze@2023\")\u001B[39;00m\n\u001B[1;32m----> 2\u001B[0m access_token \u001B[38;5;241m=\u001B[39m \u001B[43mget_access_token\u001B[49m\u001B[43m(\u001B[49m\u001B[38;5;124;43m\"\u001B[39;49m\u001B[38;5;124;43mpierlorenzo.marasco@ext.ec.europa.eu\u001B[39;49m\u001B[38;5;124;43m\"\u001B[39;49m\u001B[43m,\u001B[49m\u001B[43m \u001B[49m\u001B[38;5;124;43m\"\u001B[39;49m\u001B[38;5;124;43mnh5:6_Qw5Ur!5MS\u001B[39;49m\u001B[38;5;124;43m\"\u001B[39;49m\u001B[43m,\u001B[49m\u001B[43m \u001B[49m\u001B[38;5;124;43m\"\u001B[39;49m\u001B[38;5;124;43m901267\u001B[39;49m\u001B[38;5;124;43m\"\u001B[39;49m\u001B[43m)\u001B[49m\n",
      "Cell \u001B[1;32mIn[29], line 15\u001B[0m, in \u001B[0;36mget_access_token\u001B[1;34m(username, password, otp)\u001B[0m\n\u001B[0;32m     13\u001B[0m     r\u001B[38;5;241m.\u001B[39mraise_for_status()\n\u001B[0;32m     14\u001B[0m \u001B[38;5;28;01mexcept\u001B[39;00m \u001B[38;5;167;01mException\u001B[39;00m \u001B[38;5;28;01mas\u001B[39;00m e:\n\u001B[1;32m---> 15\u001B[0m     \u001B[38;5;28;01mraise\u001B[39;00m \u001B[38;5;167;01mException\u001B[39;00m(\n\u001B[0;32m     16\u001B[0m         \u001B[38;5;124mf\u001B[39m\u001B[38;5;124m\"\u001B[39m\u001B[38;5;124mAccess token creation failed. Reponse from the server was: \u001B[39m\u001B[38;5;132;01m{\u001B[39;00mr\u001B[38;5;241m.\u001B[39mjson()\u001B[38;5;132;01m}\u001B[39;00m\u001B[38;5;124m\"\u001B[39m\n\u001B[0;32m     17\u001B[0m     )\n\u001B[0;32m     18\u001B[0m \u001B[38;5;28;01mreturn\u001B[39;00m r\u001B[38;5;241m.\u001B[39mjson()[\u001B[38;5;124m\"\u001B[39m\u001B[38;5;124maccess_token\u001B[39m\u001B[38;5;124m\"\u001B[39m]\n",
      "\u001B[1;31mException\u001B[0m: Access token creation failed. Reponse from the server was: {'error': 'invalid_grant', 'error_description': 'Invalid user credentials'}"
     ]
    }
   ],
   "source": [
    "# access_token = get_access_token(\"pl.marasco@gmail.com\", \"Firenze@2023\")\n",
    "access_token = get_access_token(\"pierlorenzo.marasco@ext.ec.europa.eu\", \"nh5:6_Qw5Ur!5MS\", \"901267\")"
   ],
   "metadata": {
    "collapsed": true,
    "ExecuteTime": {
     "end_time": "2024-02-14T13:45:30.797944800Z",
     "start_time": "2024-02-14T13:45:30.287912500Z"
    }
   },
   "id": "initial_id",
   "execution_count": 30
  },
  {
   "cell_type": "code",
   "outputs": [],
   "source": [
    "import requests\n",
    "\n",
    "# JSON parser\n",
    "import json\n",
    "\n",
    "# XML parser\n",
    "import xml.etree.ElementTree as ET\n",
    "\n",
    "# system modules\n",
    "import os\n",
    "import re\n",
    "import sys\n",
    "import random\n",
    "\n",
    "# data manipulation\n",
    "import pandas as pd\n",
    "import numpy as np\n",
    "\n",
    "# image manipulation\n",
    "import rasterio\n",
    "import matplotlib.pyplot as plt\n",
    "import matplotlib.image\n",
    "from rasterio.windows import Window\n",
    "\n",
    "# file manipulation\n",
    "from pathlib import Path"
   ],
   "metadata": {
    "collapsed": false,
    "ExecuteTime": {
     "end_time": "2024-02-14T13:45:38.480603500Z",
     "start_time": "2024-02-14T13:45:38.464095200Z"
    }
   },
   "id": "c395e4b94494d885",
   "execution_count": 31
  },
  {
   "cell_type": "code",
   "outputs": [],
   "source": [
    "# base URL of the product catalogue\n",
    "catalogue_odata_url = \"https://catalogue.dataspace.copernicus.eu/odata/v1\"\n",
    "\n",
    "# search parameters\n",
    "collection_name = \"SENTINEL-2\"\n",
    "product_type = \"S2MSI2A\"\n",
    "max_cloud_cover = 100\n",
    "aoi = \"POINT(20.888443 52.169721)\"\n",
    "search_period_start = \"2024-01-01T00:00:00.000Z\"\n",
    "search_period_end = \"2024-02-10T00:00:00.000Z\""
   ],
   "metadata": {
    "collapsed": false,
    "ExecuteTime": {
     "end_time": "2024-02-14T13:45:39.944526600Z",
     "start_time": "2024-02-14T13:45:39.929510900Z"
    }
   },
   "id": "7d9cac96af86aac3",
   "execution_count": 32
  },
  {
   "cell_type": "code",
   "outputs": [],
   "source": [
    "search_query = f\"{catalogue_odata_url}/Products?$filter=Collection/Name eq '{collection_name}' and Attributes/OData.CSC.StringAttribute/any(att:att/Name eq 'productType' and att/OData.CSC.StringAttribute/Value eq '{product_type}') and OData.CSC.Intersects(area=geography'SRID=4326;{aoi}') and ContentDate/Start gt {search_period_start} and ContentDate/Start lt {search_period_end}\"\n"
   ],
   "metadata": {
    "collapsed": false,
    "ExecuteTime": {
     "end_time": "2024-02-14T13:45:40.687671300Z",
     "start_time": "2024-02-14T13:45:40.675163900Z"
    }
   },
   "id": "d73bcd9ce1b07737",
   "execution_count": 33
  },
  {
   "cell_type": "code",
   "outputs": [
    {
     "data": {
      "text/plain": "    @odata.mediaContentType                                    Id  \\\n0  application/octet-stream  83ecabdc-b36d-430d-a017-a05ad7f7d4b3   \n1  application/octet-stream  72548eac-744f-4155-9c7f-0850890b764b   \n2  application/octet-stream  3f46cbba-3b80-4ba1-8cdc-0cbf3d74fb79   \n\n                                                Name  \\\n0  S2A_MSIL2A_20240102T095411_N0510_R079_T34UDC_2...   \n1  S2B_MSIL2A_20240104T094319_N0510_R036_T34UDC_2...   \n2  S2A_MSIL2A_20240122T095311_N0510_R079_T34UDC_2...   \n\n                ContentType  ContentLength                OriginDate  \\\n0  application/octet-stream      928652481  2024-01-02T13:42:15.155Z   \n1  application/octet-stream      787401463  2024-01-04T12:19:03.366Z   \n2  application/octet-stream      794514675  2024-01-22T13:51:06.000Z   \n\n            PublicationDate          ModificationDate  Online EvictionDate  \\\n0  2024-01-02T14:14:55.195Z  2024-01-02T14:15:26.542Z    True                \n1  2024-01-04T12:42:41.896Z  2024-01-04T12:43:19.617Z    True                \n2  2024-01-22T14:14:50.807Z  2024-01-22T14:15:12.166Z    True                \n\n                                              S3Path  \\\n0  /eodata/Sentinel-2/MSI/L2A/2024/01/02/S2A_MSIL...   \n1  /eodata/Sentinel-2/MSI/L2A/2024/01/04/S2B_MSIL...   \n2  /eodata/Sentinel-2/MSI/L2A/2024/01/22/S2A_MSIL...   \n\n                                            Checksum  \\\n0  [{'Value': 'a69068730dcb7630a02fc3b8f8af42c2',...   \n1  [{'Value': '97dd90db06fa3f2b966b72c48d511210',...   \n2  [{'Value': '2abf2e9eb626a66c87b8048338e149a3',...   \n\n                                         ContentDate  \\\n0  {'Start': '2024-01-02T09:54:11.024Z', 'End': '...   \n1  {'Start': '2024-01-04T09:43:19.024Z', 'End': '...   \n2  {'Start': '2024-01-22T09:53:11.024Z', 'End': '...   \n\n                                           Footprint  \\\n0  geography'SRID=4326;POLYGON ((19.5315289025883...   \n1  geography'SRID=4326;POLYGON ((19.5609776998273...   \n2  geography'SRID=4326;POLYGON ((19.5315289025883...   \n\n                                        GeoFootprint  \n0  {'type': 'Polygon', 'coordinates': [[[19.53152...  \n1  {'type': 'Polygon', 'coordinates': [[[19.56097...  \n2  {'type': 'Polygon', 'coordinates': [[[19.53152...  ",
      "text/html": "<div>\n<style scoped>\n    .dataframe tbody tr th:only-of-type {\n        vertical-align: middle;\n    }\n\n    .dataframe tbody tr th {\n        vertical-align: top;\n    }\n\n    .dataframe thead th {\n        text-align: right;\n    }\n</style>\n<table border=\"1\" class=\"dataframe\">\n  <thead>\n    <tr style=\"text-align: right;\">\n      <th></th>\n      <th>@odata.mediaContentType</th>\n      <th>Id</th>\n      <th>Name</th>\n      <th>ContentType</th>\n      <th>ContentLength</th>\n      <th>OriginDate</th>\n      <th>PublicationDate</th>\n      <th>ModificationDate</th>\n      <th>Online</th>\n      <th>EvictionDate</th>\n      <th>S3Path</th>\n      <th>Checksum</th>\n      <th>ContentDate</th>\n      <th>Footprint</th>\n      <th>GeoFootprint</th>\n    </tr>\n  </thead>\n  <tbody>\n    <tr>\n      <th>0</th>\n      <td>application/octet-stream</td>\n      <td>83ecabdc-b36d-430d-a017-a05ad7f7d4b3</td>\n      <td>S2A_MSIL2A_20240102T095411_N0510_R079_T34UDC_2...</td>\n      <td>application/octet-stream</td>\n      <td>928652481</td>\n      <td>2024-01-02T13:42:15.155Z</td>\n      <td>2024-01-02T14:14:55.195Z</td>\n      <td>2024-01-02T14:15:26.542Z</td>\n      <td>True</td>\n      <td></td>\n      <td>/eodata/Sentinel-2/MSI/L2A/2024/01/02/S2A_MSIL...</td>\n      <td>[{'Value': 'a69068730dcb7630a02fc3b8f8af42c2',...</td>\n      <td>{'Start': '2024-01-02T09:54:11.024Z', 'End': '...</td>\n      <td>geography'SRID=4326;POLYGON ((19.5315289025883...</td>\n      <td>{'type': 'Polygon', 'coordinates': [[[19.53152...</td>\n    </tr>\n    <tr>\n      <th>1</th>\n      <td>application/octet-stream</td>\n      <td>72548eac-744f-4155-9c7f-0850890b764b</td>\n      <td>S2B_MSIL2A_20240104T094319_N0510_R036_T34UDC_2...</td>\n      <td>application/octet-stream</td>\n      <td>787401463</td>\n      <td>2024-01-04T12:19:03.366Z</td>\n      <td>2024-01-04T12:42:41.896Z</td>\n      <td>2024-01-04T12:43:19.617Z</td>\n      <td>True</td>\n      <td></td>\n      <td>/eodata/Sentinel-2/MSI/L2A/2024/01/04/S2B_MSIL...</td>\n      <td>[{'Value': '97dd90db06fa3f2b966b72c48d511210',...</td>\n      <td>{'Start': '2024-01-04T09:43:19.024Z', 'End': '...</td>\n      <td>geography'SRID=4326;POLYGON ((19.5609776998273...</td>\n      <td>{'type': 'Polygon', 'coordinates': [[[19.56097...</td>\n    </tr>\n    <tr>\n      <th>2</th>\n      <td>application/octet-stream</td>\n      <td>3f46cbba-3b80-4ba1-8cdc-0cbf3d74fb79</td>\n      <td>S2A_MSIL2A_20240122T095311_N0510_R079_T34UDC_2...</td>\n      <td>application/octet-stream</td>\n      <td>794514675</td>\n      <td>2024-01-22T13:51:06.000Z</td>\n      <td>2024-01-22T14:14:50.807Z</td>\n      <td>2024-01-22T14:15:12.166Z</td>\n      <td>True</td>\n      <td></td>\n      <td>/eodata/Sentinel-2/MSI/L2A/2024/01/22/S2A_MSIL...</td>\n      <td>[{'Value': '2abf2e9eb626a66c87b8048338e149a3',...</td>\n      <td>{'Start': '2024-01-22T09:53:11.024Z', 'End': '...</td>\n      <td>geography'SRID=4326;POLYGON ((19.5315289025883...</td>\n      <td>{'type': 'Polygon', 'coordinates': [[[19.53152...</td>\n    </tr>\n  </tbody>\n</table>\n</div>"
     },
     "execution_count": 34,
     "metadata": {},
     "output_type": "execute_result"
    }
   ],
   "source": [
    "response = requests.get(search_query).json()\n",
    "result = pd.DataFrame.from_dict(response[\"value\"])\n",
    "\n",
    "# print first 3 results\n",
    "result.head(3)"
   ],
   "metadata": {
    "collapsed": false,
    "ExecuteTime": {
     "end_time": "2024-02-14T13:45:43.493177400Z",
     "start_time": "2024-02-14T13:45:41.798809Z"
    }
   },
   "id": "b5b50f804fa10c3d",
   "execution_count": 34
  },
  {
   "cell_type": "code",
   "outputs": [
    {
     "data": {
      "text/plain": "'S2A_MSIL2A_20240102T095411_N0510_R079_T34UDC_20240102T124351.SAFE'"
     },
     "execution_count": 35,
     "metadata": {},
     "output_type": "execute_result"
    }
   ],
   "source": [
    "result.iloc[0]['Name']"
   ],
   "metadata": {
    "collapsed": false,
    "ExecuteTime": {
     "end_time": "2024-02-14T13:45:49.878494600Z",
     "start_time": "2024-02-14T13:45:49.861516100Z"
    }
   },
   "id": "22d09c0bb79057d3",
   "execution_count": 35
  },
  {
   "cell_type": "code",
   "outputs": [],
   "source": [
    "import glob"
   ],
   "metadata": {
    "collapsed": false,
    "ExecuteTime": {
     "end_time": "2024-02-14T13:45:57.235645100Z",
     "start_time": "2024-02-14T13:45:57.223130600Z"
    }
   },
   "id": "dfd38c9f9928ad62",
   "execution_count": 36
  },
  {
   "cell_type": "code",
   "outputs": [],
   "source": [],
   "metadata": {
    "collapsed": false
   },
   "id": "cb98555502b2a785",
   "execution_count": null
  },
  {
   "cell_type": "code",
   "outputs": [
    {
     "data": {
      "text/plain": "[]"
     },
     "execution_count": 40,
     "metadata": {},
     "output_type": "execute_result"
    }
   ],
   "source": [
    "glob.glob('/home/pier/CDSE/Sentinel-2/MSI/L2A/2024/01/02/S2A_MSIL2A_20240102T095411_N0510_R079_T34UDC_20240102T124351.SAFE/')# Nodes() method lets us traverse the directory tree and retrieve single file from the product\n"
   ],
   "metadata": {
    "collapsed": false,
    "ExecuteTime": {
     "end_time": "2024-02-14T13:48:27.295658600Z",
     "start_time": "2024-02-14T13:48:27.269097200Z"
    }
   },
   "id": "d8d8e1416b4470cd",
   "execution_count": 40
  },
  {
   "cell_type": "code",
   "outputs": [
    {
     "data": {
      "text/plain": "'https://zipper.dataspace.copernicus.eu/odata/v1/Products(83ecabdc-b36d-430d-a017-a05ad7f7d4b3)/Nodes(S2A_MSIL2A_20240102T095411_N0510_R079_T34UDC_20240102T124351.SAFE)/Nodes(MTD_MSIL1C.xml)/$value'"
     },
     "execution_count": 24,
     "metadata": {},
     "output_type": "execute_result"
    }
   ],
   "source": [],
   "metadata": {
    "collapsed": false,
    "ExecuteTime": {
     "end_time": "2024-02-14T13:35:56.749161500Z",
     "start_time": "2024-02-14T13:35:56.727231800Z"
    }
   },
   "id": "6795032faf97cc2f",
   "execution_count": 24
  },
  {
   "cell_type": "code",
   "outputs": [
    {
     "data": {
      "text/plain": "<Response [401]>"
     },
     "execution_count": 25,
     "metadata": {},
     "output_type": "execute_result"
    }
   ],
   "source": [],
   "metadata": {
    "collapsed": false,
    "ExecuteTime": {
     "end_time": "2024-02-14T13:36:08.473393100Z",
     "start_time": "2024-02-14T13:36:08.460356500Z"
    }
   },
   "id": "b9f02f030c2456e5",
   "execution_count": 25
  },
  {
   "cell_type": "code",
   "outputs": [],
   "source": [],
   "metadata": {
    "collapsed": false
   },
   "id": "5fb271c2e7ea554"
  }
 ],
 "metadata": {
  "kernelspec": {
   "display_name": "Python 3",
   "language": "python",
   "name": "python3"
  },
  "language_info": {
   "codemirror_mode": {
    "name": "ipython",
    "version": 2
   },
   "file_extension": ".py",
   "mimetype": "text/x-python",
   "name": "python",
   "nbconvert_exporter": "python",
   "pygments_lexer": "ipython2",
   "version": "2.7.6"
  }
 },
 "nbformat": 4,
 "nbformat_minor": 5
}
