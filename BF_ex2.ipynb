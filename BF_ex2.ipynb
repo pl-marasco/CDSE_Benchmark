{
 "cells": [
  {
   "cell_type": "markdown",
   "source": [
    "# Sentinel 2 resources on AWS"
   ],
   "metadata": {
    "collapsed": false
   },
   "id": "7401cb1de1d4238a"
  },
  {
   "cell_type": "markdown",
   "source": [
    "- Sentinel 2 resources on AWS: [Sentinel-2 - Registry of Open Data on AWS](https://registry.opendata.aws/sentinel-2/)\n",
    "- Data managed by Sinergy on AWS: [S2 on AWS from Sinergy](https://registry.opendata.aws/?search=managedBy:sinergise)"
   ],
   "metadata": {
    "collapsed": false
   },
   "id": "f63a1bb4e4b283b"
  },
  {
   "cell_type": "markdown",
   "source": [
    "Question: get access to the latest MSI product available for the UTM zone 32TPP from AWS\n",
    "Procedure description:\n",
    "\n",
    "- get latest MSI product available for the UTM zone 32TPP from AWS\n",
    "- test access to the data and speed of access on the local machine"
   ],
   "metadata": {
    "collapsed": false
   },
   "id": "bcf2923d2446dcb8"
  },
  {
   "cell_type": "markdown",
   "source": [
    "Source of data: \n",
    "```\n",
    "Description\n",
    "    Level 2A scenes and metadata, in Requester Pays S3 bucket\n",
    "Resource type\n",
    "    S3 Bucket Requester Pays\n",
    "Amazon Resource Name (ARN)\n",
    "    arn:aws:s3:::sentinel-s2-l2a\n",
    "AWS Region\n",
    "    eu-central-1\n",
    "AWS CLI Access\n",
    "   aws s3 ls --request-payer requester s3://sentinel-s2-l2a/\n",
    "```"
   ],
   "metadata": {
    "collapsed": false
   },
   "id": "5a06f40aeac7ff3d"
  },
  {
   "cell_type": "code",
   "outputs": [
    {
     "name": "stdout",
     "output_type": "stream",
     "text": [
      "                           PRE qi/\n",
      "2024-02-10 04:56:56    8700476 metadata.xml\n"
     ]
    }
   ],
   "source": [],
   "metadata": {
    "collapsed": false,
    "ExecuteTime": {
     "end_time": "2024-02-12T13:53:41.770407400Z",
     "start_time": "2024-02-12T13:53:40.992993Z"
    }
   },
   "id": "cec8cdd487519ac9",
   "execution_count": 58
  },
  {
   "cell_type": "code",
   "outputs": [
    {
     "name": "stderr",
     "output_type": "stream",
     "text": [
      "fatal error: An error occurred (400) when calling the HeadObject operation: Bad Request\n"
     ]
    }
   ],
   "source": [
    "#get the latest MSI product available for the UTM zone 32TPP from AWS\n",
    "!aws s3 cp --request-payer requester s3://sentinel-s2-l2a/tiles/32/T/PP/2024/2/10/0/R20m/B07.jp2 ./data"
   ],
   "metadata": {
    "collapsed": false,
    "ExecuteTime": {
     "end_time": "2024-02-12T16:29:00.731895500Z",
     "start_time": "2024-02-12T16:28:58.808261500Z"
    }
   },
   "id": "108b20ed13171c31",
   "execution_count": 60
  },
  {
   "cell_type": "code",
   "outputs": [],
   "source": [
    "from osgeo import gdal"
   ],
   "metadata": {
    "collapsed": false,
    "ExecuteTime": {
     "end_time": "2024-02-12T13:35:58.549086200Z",
     "start_time": "2024-02-12T13:35:58.006055300Z"
    }
   },
   "id": "2db49039b1ba50f7",
   "execution_count": 45
  },
  {
   "cell_type": "code",
   "outputs": [
    {
     "name": "stdout",
     "output_type": "stream",
     "text": [
      "2.23 ms ± 44.4 µs per loop (mean ± std. dev. of 7 runs, 100 loops each)\n"
     ]
    }
   ],
   "source": [
    "%%timeit\n",
    "gdal.Info('data/B07.jp2')"
   ],
   "metadata": {
    "collapsed": false,
    "ExecuteTime": {
     "end_time": "2024-02-12T13:51:04.844098100Z",
     "start_time": "2024-02-12T13:51:03.025380300Z"
    }
   },
   "id": "297c040ab5ff2140",
   "execution_count": 52
  },
  {
   "cell_type": "code",
   "outputs": [
    {
     "name": "stderr",
     "output_type": "stream",
     "text": [
      "'s3fs' is not recognized as an internal or external command,\n",
      "operable program or batch file.\n"
     ]
    }
   ],
   "source": [
    "#mount the bucket (linux)\n",
    "!s3fs sentinel-s2-l2a ~/s2aws -o url=https://s3-eu-central-1.amazonaws.com -o endpoint=eu-central-1 -o sigv4 -o requester_pays -o dbglevel=info -f -o curldbg"
   ],
   "metadata": {
    "collapsed": false,
    "ExecuteTime": {
     "end_time": "2024-02-13T10:41:10.601089700Z",
     "start_time": "2024-02-13T10:41:10.574745700Z"
    }
   },
   "id": "3e673ac6cd49df22",
   "execution_count": 1
  },
  {
   "cell_type": "code",
   "outputs": [],
   "source": [
    "#mount the bucket (linux no debug)\n",
    "!s3fs sentinel-s2-l2a ~/s2aws -o url=https://s3-eu-central-1.amazonaws.com -o endpoint=eu-central-1 -o sigv4 -o requester_pays"
   ],
   "metadata": {
    "collapsed": false
   },
   "id": "8529123f567cf61f"
  }
 ],
 "metadata": {
  "kernelspec": {
   "display_name": "Python 3",
   "language": "python",
   "name": "python3"
  },
  "language_info": {
   "codemirror_mode": {
    "name": "ipython",
    "version": 2
   },
   "file_extension": ".py",
   "mimetype": "text/x-python",
   "name": "python",
   "nbconvert_exporter": "python",
   "pygments_lexer": "ipython2",
   "version": "2.7.6"
  }
 },
 "nbformat": 4,
 "nbformat_minor": 5
}
