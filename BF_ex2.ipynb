{
 "cells": [
  {
   "cell_type": "markdown",
   "source": [
    "# Sentinel 2 resources on AWS"
   ],
   "metadata": {
    "collapsed": false
   },
   "id": "7401cb1de1d4238a"
  },
  {
   "cell_type": "markdown",
   "source": [
    "- Sentinel 2 resources on AWS: [Sentinel-2 - Registry of Open Data on AWS](https://registry.opendata.aws/sentinel-2/)\n",
    "- Data managed by Sinergy on AWS: [S2 on AWS from Sinergy](https://registry.opendata.aws/?search=managedBy:sinergise)"
   ],
   "metadata": {
    "collapsed": false
   },
   "id": "f63a1bb4e4b283b"
  },
  {
   "cell_type": "markdown",
   "source": [
    "Question: get access to the latest MSI product available for the UTM zone 32TPP from AWS\n",
    "Procedure description:\n",
    "\n",
    "- get latest MSI product available for the UTM zone 32TPP from AWS\n",
    "- test access to the data and speed of access on the local machine"
   ],
   "metadata": {
    "collapsed": false
   },
   "id": "bcf2923d2446dcb8"
  },
  {
   "cell_type": "markdown",
   "source": [
    "Source of data: \n",
    "```\n",
    "Description\n",
    "    Level 2A scenes and metadata, in Requester Pays S3 bucket\n",
    "Resource type\n",
    "    S3 Bucket Requester Pays\n",
    "Amazon Resource Name (ARN)\n",
    "    arn:aws:s3:::sentinel-s2-l2a\n",
    "AWS Region\n",
    "    eu-central-1\n",
    "AWS CLI Access\n",
    "   aws s3 ls --request-payer requester s3://sentinel-s2-l2a/\n",
    "```"
   ],
   "metadata": {
    "collapsed": false
   },
   "id": "5a06f40aeac7ff3d"
  },
  {
   "cell_type": "code",
   "outputs": [
    {
     "name": "stdout",
     "output_type": "stream",
     "text": [
      "                           PRE qi/\n",
      "2024-02-10 04:56:56    8700476 metadata.xml\n"
     ]
    }
   ],
   "source": [],
   "metadata": {
    "collapsed": false,
    "ExecuteTime": {
     "end_time": "2024-02-12T13:53:41.770407400Z",
     "start_time": "2024-02-12T13:53:40.992993Z"
    }
   },
   "id": "cec8cdd487519ac9",
   "execution_count": 58
  },
  {
   "cell_type": "code",
   "outputs": [
    {
     "name": "stderr",
     "output_type": "stream",
     "text": [
      "fatal error: An error occurred (400) when calling the HeadObject operation: Bad Request\n"
     ]
    }
   ],
   "source": [
    "import numpy as np\n",
    "#get the latest MSI product available for the UTM zone 32TPP from AWS\n",
    "!aws s3 cp --request-payer requester s3://sentinel-s2-l2a/tiles/32/T/PP/2024/2/10/0/R20m/B07.jp2 ./data"
   ],
   "metadata": {
    "collapsed": false,
    "ExecuteTime": {
     "end_time": "2024-02-12T16:29:00.731895500Z",
     "start_time": "2024-02-12T16:28:58.808261500Z"
    }
   },
   "id": "108b20ed13171c31",
   "execution_count": 60
  },
  {
   "cell_type": "code",
   "outputs": [
    {
     "name": "stderr",
     "output_type": "stream",
     "text": [
      "'s3fs' is not recognized as an internal or external command,\n",
      "operable program or batch file.\n"
     ]
    }
   ],
   "source": [
    "#mount the bucket (linux)\n",
    "!s3fs sentinel-s2-l2a ~/s2aws -o url=https://s3-eu-central-1.amazonaws.com -o endpoint=eu-central-1 -o sigv4 -o requester_pays -o dbglevel=info -f -o curldbg"
   ],
   "metadata": {
    "collapsed": false,
    "ExecuteTime": {
     "end_time": "2024-02-13T10:41:10.601089700Z",
     "start_time": "2024-02-13T10:41:10.574745700Z"
    }
   },
   "id": "3e673ac6cd49df22",
   "execution_count": 1
  },
  {
   "cell_type": "code",
   "outputs": [],
   "source": [
    "#mount the bucket (linux no debug)\n",
    "!s3fs sentinel-s2-l2a ~/s2aws -o url=https://s3-eu-central-1.amazonaws.com -o endpoint=eu-central-1 -o sigv4 -o requester_pays"
   ],
   "metadata": {
    "collapsed": false
   },
   "id": "f04bff1858ce7ba3"
  },
  {
   "cell_type": "code",
   "outputs": [],
   "source": [
    "from osgeo import gdal\n",
    "import timeit"
   ],
   "metadata": {
    "collapsed": false,
    "ExecuteTime": {
     "end_time": "2024-02-14T09:48:33.847417996Z",
     "start_time": "2024-02-14T09:48:33.844594555Z"
    }
   },
   "id": "6b3adeb1ad1ef459",
   "execution_count": 1
  },
  {
   "cell_type": "code",
   "outputs": [
    {
     "name": "stdout",
     "output_type": "stream",
     "text": [
      "1.74 s ± 129 ms per loop (mean ± std. dev. of 30 runs, 1 loop each)\n"
     ]
    }
   ],
   "source": [
    "%%timeit -r 30 -n 1\n",
    "gdal.Info('/home/pier/AWS/tiles/32/T/PP/2024/2/10/0/R20m/B07.jp2')"
   ],
   "metadata": {
    "collapsed": false,
    "ExecuteTime": {
     "end_time": "2024-02-14T10:43:38.324268988Z",
     "start_time": "2024-02-14T10:42:46.091886106Z"
    }
   },
   "id": "23753b50700b6ce1",
   "execution_count": 28
  },
  {
   "cell_type": "code",
   "outputs": [
    {
     "name": "stdout",
     "output_type": "stream",
     "text": [
      "1.54 s ± 67.1 ms per loop (mean ± std. dev. of 30 runs, 1 loop each)\n"
     ]
    }
   ],
   "source": [
    "%%timeit -r 30 -n 1\n",
    "gdal.Info('/home/pier/AWS/tiles/38/Q/KG/2024/2/14/0/R20m/B07.jp2')"
   ],
   "metadata": {
    "collapsed": false,
    "ExecuteTime": {
     "end_time": "2024-02-14T10:44:24.634145899Z",
     "start_time": "2024-02-14T10:43:38.324199510Z"
    }
   },
   "id": "5f49381ba4986850",
   "execution_count": 29
  },
  {
   "cell_type": "code",
   "outputs": [
    {
     "name": "stdout",
     "output_type": "stream",
     "text": [
      "16.7 s ± 1.84 s per loop (mean ± std. dev. of 5 runs, 1 loop each)\n"
     ]
    }
   ],
   "source": [
    "%%timeit -r 5 -n 1\n",
    "gdal.Info('/home/pier/CDSE/Sentinel-2/MSI/L2A/2024/02/10/S2A_MSIL2A_20240210T102151_N0510_R065_T32TPP_20240210T143650.SAFE/GRANULE/L2A_T32TPP_A045107_20240210T102529/IMG_DATA/R20m/T32TPP_20240210T102151_B07_20m.jp2')"
   ],
   "metadata": {
    "collapsed": false,
    "ExecuteTime": {
     "end_time": "2024-02-14T10:29:18.294130497Z",
     "start_time": "2024-02-14T10:27:54.655608185Z"
    }
   },
   "id": "7bf8d1273f1fe72c",
   "execution_count": 24
  },
  {
   "cell_type": "code",
   "outputs": [
    {
     "name": "stdout",
     "output_type": "stream",
     "text": [
      "1.76 s ± 92.4 ms per loop (mean ± std. dev. of 5 runs, 1 loop each)\n"
     ]
    }
   ],
   "source": [],
   "metadata": {
    "collapsed": false,
    "ExecuteTime": {
     "end_time": "2024-02-14T10:15:51.010798841Z",
     "start_time": "2024-02-14T10:15:42.185041333Z"
    }
   },
   "id": "8529123f567cf61f",
   "execution_count": 18
  },
  {
   "cell_type": "code",
   "outputs": [],
   "source": [
    "import timeit\n",
    "import numpy as np"
   ],
   "metadata": {
    "collapsed": false,
    "ExecuteTime": {
     "end_time": "2024-02-14T12:47:38.826511833Z",
     "start_time": "2024-02-14T12:47:38.785369086Z"
    }
   },
   "id": "a47e88813e9ab62b",
   "execution_count": 13
  },
  {
   "cell_type": "code",
   "outputs": [],
   "source": [
    "timing = timeit.repeat('gdal.Info(\"/home/pier/AWS/tiles/32/T/PP/2024/2/10/0/R20m/B07.jp2\")', setup='from osgeo import gdal', repeat=30, number=1)"
   ],
   "metadata": {
    "collapsed": false,
    "ExecuteTime": {
     "end_time": "2024-02-14T12:49:08.630359955Z",
     "start_time": "2024-02-14T12:48:16.428809395Z"
    }
   },
   "id": "eeba4330e702a51e",
   "execution_count": 15
  },
  {
   "cell_type": "code",
   "outputs": [],
   "source": [
    "timing = np.array(timing)"
   ],
   "metadata": {
    "collapsed": false,
    "ExecuteTime": {
     "end_time": "2024-02-14T12:49:08.686962801Z",
     "start_time": "2024-02-14T12:49:08.686437276Z"
    }
   },
   "id": "23780b87ced206e",
   "execution_count": 17
  },
  {
   "cell_type": "code",
   "outputs": [
    {
     "data": {
      "text/plain": "1.74"
     },
     "execution_count": 21,
     "metadata": {},
     "output_type": "execute_result"
    }
   ],
   "source": [
    "np.mean(timing).round(3)"
   ],
   "metadata": {
    "collapsed": false,
    "ExecuteTime": {
     "end_time": "2024-02-14T12:51:44.236788162Z",
     "start_time": "2024-02-14T12:51:44.232689382Z"
    }
   },
   "id": "cfe8981194ed9575",
   "execution_count": 21
  },
  {
   "cell_type": "code",
   "outputs": [
    {
     "data": {
      "text/plain": "0.084"
     },
     "execution_count": 20,
     "metadata": {},
     "output_type": "execute_result"
    }
   ],
   "source": [
    "np.std(timing).round(3)"
   ],
   "metadata": {
    "collapsed": false,
    "ExecuteTime": {
     "end_time": "2024-02-14T12:51:35.586561886Z",
     "start_time": "2024-02-14T12:51:35.538728949Z"
    }
   },
   "id": "f4acf3f7fad35ee9",
   "execution_count": 20
  },
  {
   "cell_type": "code",
   "outputs": [],
   "source": [],
   "metadata": {
    "collapsed": false
   },
   "id": "df76fc4ae71d99ff"
  }
 ],
 "metadata": {
  "kernelspec": {
   "display_name": "Python 3",
   "language": "python",
   "name": "python3"
  },
  "language_info": {
   "codemirror_mode": {
    "name": "ipython",
    "version": 2
   },
   "file_extension": ".py",
   "mimetype": "text/x-python",
   "name": "python",
   "nbconvert_exporter": "python",
   "pygments_lexer": "ipython2",
   "version": "2.7.6"
  }
 },
 "nbformat": 4,
 "nbformat_minor": 5
}
